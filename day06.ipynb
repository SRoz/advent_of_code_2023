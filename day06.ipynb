{
 "cells": [
  {
   "cell_type": "markdown",
   "metadata": {},
   "source": [
    "# Part 1"
   ]
  },
  {
   "cell_type": "code",
   "execution_count": 1,
   "metadata": {},
   "outputs": [],
   "source": [
    "import re\n",
    "import numpy as np"
   ]
  },
  {
   "cell_type": "code",
   "execution_count": 2,
   "metadata": {},
   "outputs": [],
   "source": [
    "with open(\"inputs/day6.txt\", 'r') as fn:\n",
    "    input = fn.read()"
   ]
  },
  {
   "cell_type": "markdown",
   "metadata": {},
   "source": [
    "```\n",
    "distance = (time - charge_time) * charge_time \n",
    "\n",
    "record = (time - charge_time) * charge_time\n",
    "\n",
    "charge_time*2 - charge_time*time + record = 0\n",
    "\n",
    "Solve for charge_time:\n",
    "roots = np.roots([1, -time, record])\n",
    "```"
   ]
  },
  {
   "cell_type": "code",
   "execution_count": 3,
   "metadata": {},
   "outputs": [],
   "source": [
    "def parse_input(input):\n",
    "    return (list(map(int, i)) for i in (re.findall(\"(\\d+)\", line) for line in input.splitlines()))\n",
    "\n",
    "def part1(input):\n",
    "    total = 1\n",
    "    for time, record in zip(*parse_input(input)):\n",
    "        roots = np.roots([1, -time, record + 0.001])\n",
    "        total *= np.diff(np.floor(np.sort(roots))).item()\n",
    "    print(int(total))"
   ]
  },
  {
   "cell_type": "code",
   "execution_count": 4,
   "metadata": {},
   "outputs": [
    {
     "name": "stdout",
     "output_type": "stream",
     "text": [
      "440000\n"
     ]
    }
   ],
   "source": [
    "part1(input)"
   ]
  },
  {
   "cell_type": "markdown",
   "metadata": {},
   "source": [
    "# Part 2"
   ]
  },
  {
   "cell_type": "code",
   "execution_count": 5,
   "metadata": {},
   "outputs": [
    {
     "name": "stdout",
     "output_type": "stream",
     "text": [
      "26187338\n"
     ]
    }
   ],
   "source": [
    "part1(re.sub(\" \", \"\", input))"
   ]
  }
 ],
 "metadata": {
  "kernelspec": {
   "display_name": "gpt",
   "language": "python",
   "name": "python3"
  },
  "language_info": {
   "codemirror_mode": {
    "name": "ipython",
    "version": 3
   },
   "file_extension": ".py",
   "mimetype": "text/x-python",
   "name": "python",
   "nbconvert_exporter": "python",
   "pygments_lexer": "ipython3",
   "version": "3.11.5"
  }
 },
 "nbformat": 4,
 "nbformat_minor": 2
}
