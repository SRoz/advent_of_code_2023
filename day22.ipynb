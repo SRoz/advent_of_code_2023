{
 "cells": [
  {
   "cell_type": "code",
   "execution_count": 1,
   "metadata": {},
   "outputs": [],
   "source": [
    "with open(\"inputs/day22.txt\", \"r\") as fn:\n",
    "    input = fn.read()"
   ]
  },
  {
   "cell_type": "markdown",
   "metadata": {},
   "source": [
    "# Part 1"
   ]
  },
  {
   "cell_type": "code",
   "execution_count": 3,
   "metadata": {},
   "outputs": [],
   "source": [
    "from functools import cache\n",
    "@cache\n",
    "def overlap(val1, val2):\n",
    "    return all(((val1[0][i] >= val2[0][i]) & (val1[0][i] <= val2[1][i]) or \\\n",
    "    (val2[0][i] >= val1[0][i]) & (val2[0][i] <= val1[1][i]) for i in (0,1)))"
   ]
  },
  {
   "cell_type": "code",
   "execution_count": 4,
   "metadata": {},
   "outputs": [],
   "source": [
    "vals = [tuple([tuple(map(int,x.split(\",\"))) for x in line.split(\"~\")]) for line in input.splitlines()]\n",
    "vals = [(v[0],v[1],i) for i, v in enumerate(vals)]"
   ]
  },
  {
   "cell_type": "code",
   "execution_count": 5,
   "metadata": {},
   "outputs": [],
   "source": [
    "supported_by = dict()\n",
    "start_level = 1\n",
    "while True:\n",
    "    max_level = max((v[1][2] for v in vals))\n",
    "    stop=False\n",
    "    updated = 0\n",
    "    left = 0\n",
    "    # print(f\"\\rLvl: {start_level}\", end=\"\")\n",
    "    for lvl in range(start_level,max_level):\n",
    "        bottoms = [v for v in vals if v[1][2]==lvl]\n",
    "        tops = [v for v in vals if v[0][2]==lvl+1]\n",
    "        \n",
    "        for t in tops:\n",
    "            supported_by[t[2]] = [b[2] for b in bottoms if overlap(t[:2],b[:2])]\n",
    "            if not supported_by[t[2]]:\n",
    "                vals.remove(t)\n",
    "                vals.append(((*t[0][0:2], t[0][2]-1), (*t[1][0:2], t[1][2]-1), t[2]))\n",
    "                stop=True\n",
    "                updated += 1\n",
    "        if stop:\n",
    "            start_level = max(lvl-1,1)\n",
    "            break\n",
    "        else:\n",
    "            pass\n",
    "    else:\n",
    "        break"
   ]
  },
  {
   "cell_type": "code",
   "execution_count": 6,
   "metadata": {},
   "outputs": [],
   "source": [
    "removal_candidates = list()\n",
    "for *_, brick in vals:\n",
    "    for k, v in supported_by.items():\n",
    "        if (brick in v) and (len(v)==1):\n",
    "            break\n",
    "    else:\n",
    "        removal_candidates.append(brick)"
   ]
  },
  {
   "cell_type": "code",
   "execution_count": 7,
   "metadata": {},
   "outputs": [
    {
     "data": {
      "text/plain": [
       "527"
      ]
     },
     "execution_count": 7,
     "metadata": {},
     "output_type": "execute_result"
    }
   ],
   "source": [
    "len(removal_candidates)"
   ]
  },
  {
   "cell_type": "markdown",
   "metadata": {},
   "source": [
    "# Part 2"
   ]
  },
  {
   "cell_type": "code",
   "execution_count": 8,
   "metadata": {},
   "outputs": [],
   "source": [
    "fall_candidates = [b[2] for b in vals if b[2] not in removal_candidates]\n",
    "supports = {i: [k for k, v in supported_by.items() if i in v] for i in range(len(vals))}"
   ]
  },
  {
   "cell_type": "code",
   "execution_count": 9,
   "metadata": {},
   "outputs": [],
   "source": [
    "n_dead = 0\n",
    "for f in fall_candidates:\n",
    "    departed = list()\n",
    "    victims = [f]\n",
    "    while victims:\n",
    "        v = victims.pop()\n",
    "        departed.append(v)\n",
    "        new_victims = [n for n in supports[v] if n not in departed and all([s in departed for s in supported_by[n]])]\n",
    "        n_dead += len(new_victims)\n",
    "        victims += new_victims\n"
   ]
  },
  {
   "cell_type": "code",
   "execution_count": 10,
   "metadata": {},
   "outputs": [
    {
     "data": {
      "text/plain": [
       "100376"
      ]
     },
     "execution_count": 10,
     "metadata": {},
     "output_type": "execute_result"
    }
   ],
   "source": [
    "n_dead"
   ]
  }
 ],
 "metadata": {
  "kernelspec": {
   "display_name": "gpt",
   "language": "python",
   "name": "python3"
  },
  "language_info": {
   "codemirror_mode": {
    "name": "ipython",
    "version": 3
   },
   "file_extension": ".py",
   "mimetype": "text/x-python",
   "name": "python",
   "nbconvert_exporter": "python",
   "pygments_lexer": "ipython3",
   "version": "3.11.5"
  }
 },
 "nbformat": 4,
 "nbformat_minor": 2
}
