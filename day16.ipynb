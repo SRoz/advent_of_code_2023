{
 "cells": [
  {
   "cell_type": "markdown",
   "metadata": {},
   "source": [
    "# Part 1"
   ]
  },
  {
   "cell_type": "code",
   "execution_count": 1,
   "metadata": {},
   "outputs": [],
   "source": [
    "import numpy as np\n",
    "import sys\n",
    "sys.setrecursionlimit(100_000)"
   ]
  },
  {
   "cell_type": "code",
   "execution_count": 2,
   "metadata": {},
   "outputs": [],
   "source": [
    "grid = np.genfromtxt(\"inputs/day16.txt\", delimiter=1, dtype=str, comments=None)"
   ]
  },
  {
   "cell_type": "code",
   "execution_count": 3,
   "metadata": {},
   "outputs": [],
   "source": [
    "dir_map = {\n",
    "    ((0,1), \".\"): [(0,1)],\n",
    "    ((0,1), \"-\"): [(0,1)],\n",
    "    ((0,1), \"|\"): [(1,0), (-1,0)],\n",
    "    ((0,1), \"\\\\\"): [(1,0)],\n",
    "    ((0,1), \"/\"): [(-1,0)],\n",
    "\n",
    "    ((0,-1), \".\"): [(0,-1)],\n",
    "    ((0,-1), \"-\"): [(0,-1)],\n",
    "    ((0,-1), \"|\"): [(1,0), (-1,0)],\n",
    "    ((0,-1), \"\\\\\"): [(-1,0)],\n",
    "    ((0,-1), \"/\"): [(1,0)],\n",
    "\n",
    "    ((1,0), \".\"): [(1,0)],\n",
    "    ((1,0), \"-\"): [(0,1),(0,-1)],\n",
    "    ((1,0), \"|\"): [(1,0)],\n",
    "    ((1,0), \"\\\\\"): [(0,1)],\n",
    "    ((1,0), \"/\"): [(0,-1)],\n",
    "\n",
    "    ((-1,0), \".\"): [(-1,0)],\n",
    "    ((-1,0), \"-\"): [(0,1), (0,-1)],\n",
    "    ((-1,0), \"|\"): [(-1,0)],\n",
    "    ((-1,0), \"\\\\\"): [(0,-1)],\n",
    "    ((-1,0), \"/\"): [(0,1)],\n",
    "}"
   ]
  },
  {
   "cell_type": "code",
   "execution_count": 4,
   "metadata": {},
   "outputs": [],
   "source": [
    "def step(loc, dir):\n",
    "    global path_dirs, grid\n",
    "    loc = loc + dir\n",
    "\n",
    "    if all(loc>=0) & all(loc<grid.shape):\n",
    "        if path_dirs[tuple(dir)][*loc] == 0:\n",
    "            path_dirs[tuple(dir)][*loc] += 1\n",
    "            next_dirs = dir_map[tuple(dir), grid[*loc]]\n",
    "            for dir in next_dirs:\n",
    "                step(loc, dir)"
   ]
  },
  {
   "cell_type": "code",
   "execution_count": 13,
   "metadata": {},
   "outputs": [
    {
     "data": {
      "text/plain": [
       "7236"
      ]
     },
     "execution_count": 13,
     "metadata": {},
     "output_type": "execute_result"
    }
   ],
   "source": [
    "path_dirs = {dir: np.zeros_like(grid, dtype=int) for dir in ((0,1),(0,-1),(1,0),(-1,0))}\n",
    "\n",
    "loc = np.array((0,-1))\n",
    "dir = np.array((0,1))\n",
    "\n",
    "step(loc, dir)\n",
    "\n",
    "np.sum(sum(path_dirs.values())>0)"
   ]
  },
  {
   "cell_type": "markdown",
   "metadata": {},
   "source": [
    "# Part 2"
   ]
  },
  {
   "cell_type": "code",
   "execution_count": 16,
   "metadata": {},
   "outputs": [
    {
     "data": {
      "text/plain": [
       "7521"
      ]
     },
     "execution_count": 16,
     "metadata": {},
     "output_type": "execute_result"
    }
   ],
   "source": [
    "starting_dirs = ((0,1), (0,-1), (1,0), (-1,0))\n",
    "locs = (lambda i: (i,-1), lambda i: (i, grid.shape[0]), lambda i: (-1, i), lambda i: (grid.shape[1], i))\n",
    "\n",
    "best = 0\n",
    "\n",
    "for dir, loc in zip(starting_dirs, locs):\n",
    "    for i in range(grid.shape[1]):\n",
    "        path_dirs = {dir: np.zeros_like(grid, dtype=int) for dir in ((0,1),(0,-1),(1,0),(-1,0))}\n",
    "        step(np.array(loc(i)), dir)\n",
    "        score = np.sum(sum(path_dirs.values())>0)\n",
    "        best = max(score, best)\n",
    "best"
   ]
  }
 ],
 "metadata": {
  "kernelspec": {
   "display_name": "base",
   "language": "python",
   "name": "python3"
  },
  "language_info": {
   "codemirror_mode": {
    "name": "ipython",
    "version": 3
   },
   "file_extension": ".py",
   "mimetype": "text/x-python",
   "name": "python",
   "nbconvert_exporter": "python",
   "pygments_lexer": "ipython3",
   "version": "3.11.5"
  }
 },
 "nbformat": 4,
 "nbformat_minor": 2
}
