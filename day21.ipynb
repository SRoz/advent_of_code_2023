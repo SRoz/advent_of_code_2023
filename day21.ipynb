{
 "cells": [
  {
   "cell_type": "code",
   "execution_count": 2,
   "metadata": {},
   "outputs": [],
   "source": [
    "import numpy as np\n",
    "from io import StringIO\n",
    "\n",
    "test_input = \"\"\"...........\n",
    ".....###.#.\n",
    ".###.##..#.\n",
    "..#.#...#..\n",
    "....#.#....\n",
    ".##..S####.\n",
    ".##..#...#.\n",
    ".......##..\n",
    ".##.#.####.\n",
    ".##..##.##.\n",
    "...........\n",
    "\"\"\"\n",
    "\n",
    "\n",
    "grid = np.genfromtxt(\"inputs/day21.txt\", delimiter=1, dtype=str, comments=None)\n",
    "test_grid = np.genfromtxt(StringIO(test_input), delimiter=1, dtype=str, comments=None)\n",
    "\n",
    "# grid = test_grid\n"
   ]
  },
  {
   "cell_type": "code",
   "execution_count": 3,
   "metadata": {},
   "outputs": [],
   "source": [
    "def valid_step(pos):\n",
    "    if not ((0 <= pos[0] < grid.shape[0]) and (0 <= pos[1] < grid.shape[1])):\n",
    "        return False\n",
    "    elif not ((grid[*pos] == \".\") or (grid[*pos] == \"S\")):\n",
    "        return False\n",
    "    else:\n",
    "        return True"
   ]
  },
  {
   "cell_type": "code",
   "execution_count": 4,
   "metadata": {},
   "outputs": [],
   "source": [
    "directions = ((1, 0), (-1, 0), (0, 1), (0, -1))\n",
    "\n",
    "\n",
    "def valid_step(pos):\n",
    "    if not ((0 <= pos[0] < grid.shape[0]) and (0 <= pos[1] < grid.shape[1])):\n",
    "        return False\n",
    "    elif not ((grid[*pos] == \".\") or (grid[*pos] == \"S\")):\n",
    "        return False\n",
    "    else:\n",
    "        return True\n",
    "\n",
    "\n",
    "ENDPOINTS = set()\n",
    "\n",
    "\n",
    "def explore(current_pos, total_steps, path, step_n=0):\n",
    "    global ENDPOINTS\n",
    "    if current_pos not in path:\n",
    "        if step_n == total_steps:\n",
    "            ENDPOINTS = ENDPOINTS | set([current_pos])\n",
    "        else:\n",
    "            path = path + [current_pos]\n",
    "            for dir in directions:\n",
    "                new_pos = (current_pos[0] + dir[0], current_pos[1] + dir[1])\n",
    "                if valid_step(new_pos):\n",
    "                    explore(new_pos, total_steps, path, step_n + 1)\n"
   ]
  },
  {
   "cell_type": "code",
   "execution_count": 5,
   "metadata": {},
   "outputs": [
    {
     "ename": "KeyboardInterrupt",
     "evalue": "",
     "output_type": "error",
     "traceback": [
      "\u001b[1;31m---------------------------------------------------------------------------\u001b[0m",
      "\u001b[1;31mKeyboardInterrupt\u001b[0m                         Traceback (most recent call last)",
      "Cell \u001b[1;32mIn[5], line 3\u001b[0m\n\u001b[0;32m      1\u001b[0m ENDPOINTS \u001b[38;5;241m=\u001b[39m \u001b[38;5;28mset\u001b[39m()\n\u001b[0;32m      2\u001b[0m starting_pos \u001b[38;5;241m=\u001b[39m \u001b[38;5;28mtuple\u001b[39m(np\u001b[38;5;241m.\u001b[39margwhere(grid \u001b[38;5;241m==\u001b[39m \u001b[38;5;124m\"\u001b[39m\u001b[38;5;124mS\u001b[39m\u001b[38;5;124m\"\u001b[39m)[\u001b[38;5;241m0\u001b[39m])\n\u001b[1;32m----> 3\u001b[0m explore(starting_pos, \u001b[38;5;241m20\u001b[39m, step_n\u001b[38;5;241m=\u001b[39m\u001b[38;5;241m0\u001b[39m, path\u001b[38;5;241m=\u001b[39m[])\n",
      "Cell \u001b[1;32mIn[4], line 26\u001b[0m, in \u001b[0;36mexplore\u001b[1;34m(current_pos, total_steps, path, step_n)\u001b[0m\n\u001b[0;32m     24\u001b[0m new_pos \u001b[38;5;241m=\u001b[39m (current_pos[\u001b[38;5;241m0\u001b[39m] \u001b[38;5;241m+\u001b[39m \u001b[38;5;28mdir\u001b[39m[\u001b[38;5;241m0\u001b[39m], current_pos[\u001b[38;5;241m1\u001b[39m] \u001b[38;5;241m+\u001b[39m \u001b[38;5;28mdir\u001b[39m[\u001b[38;5;241m1\u001b[39m])\n\u001b[0;32m     25\u001b[0m \u001b[38;5;28;01mif\u001b[39;00m valid_step(new_pos):\n\u001b[1;32m---> 26\u001b[0m     explore(new_pos, total_steps, path, step_n \u001b[38;5;241m+\u001b[39m \u001b[38;5;241m1\u001b[39m)\n",
      "Cell \u001b[1;32mIn[4], line 26\u001b[0m, in \u001b[0;36mexplore\u001b[1;34m(current_pos, total_steps, path, step_n)\u001b[0m\n\u001b[0;32m     24\u001b[0m new_pos \u001b[38;5;241m=\u001b[39m (current_pos[\u001b[38;5;241m0\u001b[39m] \u001b[38;5;241m+\u001b[39m \u001b[38;5;28mdir\u001b[39m[\u001b[38;5;241m0\u001b[39m], current_pos[\u001b[38;5;241m1\u001b[39m] \u001b[38;5;241m+\u001b[39m \u001b[38;5;28mdir\u001b[39m[\u001b[38;5;241m1\u001b[39m])\n\u001b[0;32m     25\u001b[0m \u001b[38;5;28;01mif\u001b[39;00m valid_step(new_pos):\n\u001b[1;32m---> 26\u001b[0m     explore(new_pos, total_steps, path, step_n \u001b[38;5;241m+\u001b[39m \u001b[38;5;241m1\u001b[39m)\n",
      "    \u001b[1;31m[... skipping similar frames: explore at line 26 (16 times)]\u001b[0m\n",
      "Cell \u001b[1;32mIn[4], line 26\u001b[0m, in \u001b[0;36mexplore\u001b[1;34m(current_pos, total_steps, path, step_n)\u001b[0m\n\u001b[0;32m     24\u001b[0m new_pos \u001b[38;5;241m=\u001b[39m (current_pos[\u001b[38;5;241m0\u001b[39m] \u001b[38;5;241m+\u001b[39m \u001b[38;5;28mdir\u001b[39m[\u001b[38;5;241m0\u001b[39m], current_pos[\u001b[38;5;241m1\u001b[39m] \u001b[38;5;241m+\u001b[39m \u001b[38;5;28mdir\u001b[39m[\u001b[38;5;241m1\u001b[39m])\n\u001b[0;32m     25\u001b[0m \u001b[38;5;28;01mif\u001b[39;00m valid_step(new_pos):\n\u001b[1;32m---> 26\u001b[0m     explore(new_pos, total_steps, path, step_n \u001b[38;5;241m+\u001b[39m \u001b[38;5;241m1\u001b[39m)\n",
      "Cell \u001b[1;32mIn[4], line 25\u001b[0m, in \u001b[0;36mexplore\u001b[1;34m(current_pos, total_steps, path, step_n)\u001b[0m\n\u001b[0;32m     23\u001b[0m \u001b[38;5;28;01mfor\u001b[39;00m \u001b[38;5;28mdir\u001b[39m \u001b[38;5;129;01min\u001b[39;00m directions:\n\u001b[0;32m     24\u001b[0m     new_pos \u001b[38;5;241m=\u001b[39m (current_pos[\u001b[38;5;241m0\u001b[39m] \u001b[38;5;241m+\u001b[39m \u001b[38;5;28mdir\u001b[39m[\u001b[38;5;241m0\u001b[39m], current_pos[\u001b[38;5;241m1\u001b[39m] \u001b[38;5;241m+\u001b[39m \u001b[38;5;28mdir\u001b[39m[\u001b[38;5;241m1\u001b[39m])\n\u001b[1;32m---> 25\u001b[0m     \u001b[38;5;28;01mif\u001b[39;00m valid_step(new_pos):\n\u001b[0;32m     26\u001b[0m         explore(new_pos, total_steps, path, step_n \u001b[38;5;241m+\u001b[39m \u001b[38;5;241m1\u001b[39m)\n",
      "Cell \u001b[1;32mIn[4], line 4\u001b[0m, in \u001b[0;36mvalid_step\u001b[1;34m(pos)\u001b[0m\n\u001b[0;32m      1\u001b[0m directions \u001b[38;5;241m=\u001b[39m ((\u001b[38;5;241m1\u001b[39m, \u001b[38;5;241m0\u001b[39m), (\u001b[38;5;241m-\u001b[39m\u001b[38;5;241m1\u001b[39m, \u001b[38;5;241m0\u001b[39m), (\u001b[38;5;241m0\u001b[39m, \u001b[38;5;241m1\u001b[39m), (\u001b[38;5;241m0\u001b[39m, \u001b[38;5;241m-\u001b[39m\u001b[38;5;241m1\u001b[39m))\n\u001b[1;32m----> 4\u001b[0m \u001b[38;5;28;01mdef\u001b[39;00m \u001b[38;5;21mvalid_step\u001b[39m(pos):\n\u001b[0;32m      5\u001b[0m     \u001b[38;5;28;01mif\u001b[39;00m \u001b[38;5;129;01mnot\u001b[39;00m ((\u001b[38;5;241m0\u001b[39m \u001b[38;5;241m<\u001b[39m\u001b[38;5;241m=\u001b[39m pos[\u001b[38;5;241m0\u001b[39m] \u001b[38;5;241m<\u001b[39m grid\u001b[38;5;241m.\u001b[39mshape[\u001b[38;5;241m0\u001b[39m]) \u001b[38;5;129;01mand\u001b[39;00m (\u001b[38;5;241m0\u001b[39m \u001b[38;5;241m<\u001b[39m\u001b[38;5;241m=\u001b[39m pos[\u001b[38;5;241m1\u001b[39m] \u001b[38;5;241m<\u001b[39m grid\u001b[38;5;241m.\u001b[39mshape[\u001b[38;5;241m1\u001b[39m])):\n\u001b[0;32m      6\u001b[0m         \u001b[38;5;28;01mreturn\u001b[39;00m \u001b[38;5;28;01mFalse\u001b[39;00m\n",
      "\u001b[1;31mKeyboardInterrupt\u001b[0m: "
     ]
    }
   ],
   "source": [
    "ENDPOINTS = set()\n",
    "starting_pos = tuple(np.argwhere(grid == \"S\")[0])\n",
    "explore(starting_pos, 20, step_n=0, path=[])\n"
   ]
  },
  {
   "cell_type": "code",
   "execution_count": null,
   "metadata": {},
   "outputs": [
    {
     "data": {
      "text/plain": [
       "225"
      ]
     },
     "execution_count": 17,
     "metadata": {},
     "output_type": "execute_result"
    }
   ],
   "source": [
    "len(ENDPOINTS)"
   ]
  },
  {
   "cell_type": "code",
   "execution_count": null,
   "metadata": {},
   "outputs": [
    {
     "ename": "NameError",
     "evalue": "name 'np' is not defined",
     "output_type": "error",
     "traceback": [
      "\u001b[1;31m---------------------------------------------------------------------------\u001b[0m",
      "\u001b[1;31mNameError\u001b[0m                                 Traceback (most recent call last)",
      "Cell \u001b[1;32mIn[1], line 2\u001b[0m\n\u001b[0;32m      1\u001b[0m TOTAL_STEPS \u001b[38;5;241m=\u001b[39m \u001b[38;5;241m64\u001b[39m\n\u001b[1;32m----> 2\u001b[0m starting_pos \u001b[38;5;241m=\u001b[39m \u001b[38;5;28mtuple\u001b[39m(np\u001b[38;5;241m.\u001b[39margwhere(grid \u001b[38;5;241m==\u001b[39m \u001b[38;5;124m\"\u001b[39m\u001b[38;5;124mS\u001b[39m\u001b[38;5;124m\"\u001b[39m)[\u001b[38;5;241m0\u001b[39m])\n\u001b[0;32m      3\u001b[0m ENDPOINTS \u001b[38;5;241m=\u001b[39m \u001b[38;5;28mset\u001b[39m()\n\u001b[0;32m      5\u001b[0m \u001b[38;5;28;01mfor\u001b[39;00m steps \u001b[38;5;129;01min\u001b[39;00m \u001b[38;5;28mrange\u001b[39m(\u001b[38;5;241m2\u001b[39m, TOTAL_STEPS \u001b[38;5;241m+\u001b[39m \u001b[38;5;241m1\u001b[39m, \u001b[38;5;241m2\u001b[39m):\n",
      "\u001b[1;31mNameError\u001b[0m: name 'np' is not defined"
     ]
    }
   ],
   "source": [
    "TOTAL_STEPS = 64\n",
    "starting_pos = tuple(np.argwhere(grid == \"S\")[0])\n",
    "ENDPOINTS = set()\n",
    "\n",
    "for steps in range(2, TOTAL_STEPS + 1, 2):\n",
    "    explore(starting_pos, steps)\n",
    "\n",
    "len(ENDPOINTS) + 1\n"
   ]
  },
  {
   "cell_type": "code",
   "execution_count": 107,
   "metadata": {},
   "outputs": [],
   "source": [
    "grid_out = grid.copy()\n",
    "for e in ENDPOINTS:\n",
    "    if grid[*e] != \"S\":\n",
    "        grid_out[*e] = \"@\"\n",
    "\n",
    "with open(\"test.txt\", \"w\") as fn:\n",
    "    fn.write(\"\\n\".join([\"\".join([l for l in G]) for G in grid_out]))\n"
   ]
  },
  {
   "cell_type": "code",
   "execution_count": 78,
   "metadata": {},
   "outputs": [
    {
     "data": {
      "text/plain": [
       "80"
      ]
     },
     "execution_count": 78,
     "metadata": {},
     "output_type": "execute_result"
    }
   ],
   "source": [
    "(grid == \".\").sum()"
   ]
  },
  {
   "cell_type": "code",
   "execution_count": null,
   "metadata": {},
   "outputs": [],
   "source": [
    "# 461 - too low\n",
    "# 1181 - too low\n"
   ]
  },
  {
   "cell_type": "markdown",
   "metadata": {},
   "source": [
    "# Start again"
   ]
  },
  {
   "cell_type": "code",
   "execution_count": 10,
   "metadata": {},
   "outputs": [],
   "source": [
    "import numpy as np\n",
    "grid = np.genfromtxt(\"inputs/day21.txt\", delimiter=1, dtype=str, comments=None)\n"
   ]
  },
  {
   "cell_type": "code",
   "execution_count": 11,
   "metadata": {},
   "outputs": [],
   "source": [
    "from functools import cache\n",
    "@cache\n",
    "def valid_step(pos):\n",
    "    # if not ((0 <= pos[0] < grid.shape[0]) and (0 <= pos[1] < grid.shape[1])):\n",
    "    #     return False\n",
    "    pos = (pos[0] % grid.shape[0], pos[1] % grid.shape[1])\n",
    "    if not ((grid[*pos] == \".\") or (grid[*pos] == \"S\")):\n",
    "        return False\n",
    "    else:\n",
    "        return True\n",
    "    \n",
    "\n",
    "directions = ((1, 0), (-1, 0), (0, 1), (0, -1))"
   ]
  },
  {
   "cell_type": "code",
   "execution_count": 12,
   "metadata": {},
   "outputs": [],
   "source": [
    "def solve(grid, n_steps):\n",
    "    starting_pos = tuple(np.argwhere(grid == \"S\")[0])\n",
    "\n",
    "    Q = [(starting_pos, 0)]\n",
    "    explored = set()\n",
    "\n",
    "    while Q:    \n",
    "        step = Q.pop()\n",
    "\n",
    "        if step in explored:\n",
    "            continue\n",
    "        else:\n",
    "            explored.add(step)\n",
    "\n",
    "        pos, n_step = step\n",
    "        if n_step < n_steps:\n",
    "            for dir in directions:\n",
    "                next_step = (pos[0]+dir[0], pos[1]+dir[1])\n",
    "                if valid_step(next_step):\n",
    "                    Q.append((next_step, n_step+1))\n",
    "\n",
    "    endpoints = set([e[0] for e in explored if e[1]==n_steps])\n",
    "    return len(endpoints)"
   ]
  },
  {
   "cell_type": "code",
   "execution_count": 13,
   "metadata": {},
   "outputs": [
    {
     "data": {
      "text/plain": [
       "3746"
      ]
     },
     "execution_count": 13,
     "metadata": {},
     "output_type": "execute_result"
    }
   ],
   "source": [
    "solve(grid, 64)"
   ]
  },
  {
   "cell_type": "markdown",
   "metadata": {},
   "source": [
    "# Part 2"
   ]
  },
  {
   "cell_type": "markdown",
   "metadata": {},
   "source": [
    "Board is square - escape it in 65 spaces in any direction as clear path through"
   ]
  },
  {
   "cell_type": "code",
   "execution_count": 14,
   "metadata": {},
   "outputs": [],
   "source": [
    "xs = [65 + 131*x for x in [0,1,2]]\n",
    "ys = [solve(grid, x) for x in xs]"
   ]
  },
  {
   "cell_type": "code",
   "execution_count": 17,
   "metadata": {},
   "outputs": [],
   "source": [
    "_fit = np.polyfit(xs, ys, deg=2)"
   ]
  },
  {
   "cell_type": "code",
   "execution_count": 18,
   "metadata": {},
   "outputs": [
    {
     "data": {
      "text/plain": [
       "623540829615589.4"
      ]
     },
     "execution_count": 18,
     "metadata": {},
     "output_type": "execute_result"
    }
   ],
   "source": [
    "steps = 26501365\n",
    "_fit[0]*steps**2 + _fit[1]*steps + _fit[2]"
   ]
  },
  {
   "cell_type": "markdown",
   "metadata": {},
   "source": [
    "Well apparently that worked. I don't know why"
   ]
  }
 ],
 "metadata": {
  "kernelspec": {
   "display_name": "base",
   "language": "python",
   "name": "python3"
  },
  "language_info": {
   "codemirror_mode": {
    "name": "ipython",
    "version": 3
   },
   "file_extension": ".py",
   "mimetype": "text/x-python",
   "name": "python",
   "nbconvert_exporter": "python",
   "pygments_lexer": "ipython3",
   "version": "3.11.5"
  }
 },
 "nbformat": 4,
 "nbformat_minor": 2
}
