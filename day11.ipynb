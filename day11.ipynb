{
 "cells": [
  {
   "cell_type": "code",
   "execution_count": 1,
   "metadata": {},
   "outputs": [],
   "source": [
    "import numpy as np\n",
    "from itertools import combinations"
   ]
  },
  {
   "cell_type": "code",
   "execution_count": 2,
   "metadata": {},
   "outputs": [],
   "source": [
    "def part1(fn):\n",
    "    grid = np.genfromtxt(fn, delimiter=1, dtype=str, comments=None)\n",
    "\n",
    "    grid = grid[sum(([i, i] if b else [i] for i, b in enumerate((grid==\".\").all(axis=1))), []),:]\n",
    "    grid = grid[:,sum(([i, i] if b else [i] for i, b in enumerate((grid==\".\").all(axis=0))), [])]\n",
    "\n",
    "    galaxies = np.argwhere(grid==\"#\")\n",
    "    print(sum(np.sum(np.abs(g1-g2)) for g1, g2 in combinations(galaxies, 2)))"
   ]
  },
  {
   "cell_type": "code",
   "execution_count": 3,
   "metadata": {},
   "outputs": [
    {
     "name": "stdout",
     "output_type": "stream",
     "text": [
      "9563821\n"
     ]
    }
   ],
   "source": [
    "part1(\"inputs/day11.txt\")"
   ]
  },
  {
   "cell_type": "markdown",
   "metadata": {},
   "source": [
    "# Part 2"
   ]
  },
  {
   "cell_type": "code",
   "execution_count": 4,
   "metadata": {},
   "outputs": [],
   "source": [
    "def part2(fn, multiplier=1):\n",
    "    grid = np.genfromtxt(fn, delimiter=1, dtype=str, comments=None)\n",
    "    empty_cols = np.argwhere((grid==\".\").all(axis=1))\n",
    "    empty_rows = np.argwhere((grid==\".\").all(axis=0))\n",
    "    galaxies = np.argwhere(grid==\"#\")\n",
    "\n",
    "    total_distance = 0\n",
    "    for g1, g2 in combinations(galaxies, 2):\n",
    "        total_distance += np.sum(np.sum(np.abs(g1-g2)))\n",
    "        total_distance += (multiplier-1) * sum((min(g1[1], g2[1]) < empty_rows) & (empty_rows < max(g1[1], g2[1])))[0]\n",
    "        total_distance += (multiplier-1) * sum((min(g1[0], g2[0]) < empty_cols) & (empty_cols < max(g1[0], g2[0])))[0]\n",
    "\n",
    "    print(total_distance)"
   ]
  },
  {
   "cell_type": "code",
   "execution_count": 5,
   "metadata": {},
   "outputs": [
    {
     "name": "stdout",
     "output_type": "stream",
     "text": [
      "827009909817\n"
     ]
    }
   ],
   "source": [
    "part2(\"inputs/day11.txt\", 1_000_000)"
   ]
  }
 ],
 "metadata": {
  "kernelspec": {
   "display_name": "base",
   "language": "python",
   "name": "python3"
  },
  "language_info": {
   "codemirror_mode": {
    "name": "ipython",
    "version": 3
   },
   "file_extension": ".py",
   "mimetype": "text/x-python",
   "name": "python",
   "nbconvert_exporter": "python",
   "pygments_lexer": "ipython3",
   "version": "3.11.5"
  }
 },
 "nbformat": 4,
 "nbformat_minor": 2
}
