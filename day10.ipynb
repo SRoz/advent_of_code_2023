{
 "cells": [
  {
   "cell_type": "markdown",
   "metadata": {},
   "source": [
    "# Part 1"
   ]
  },
  {
   "cell_type": "code",
   "execution_count": 1,
   "metadata": {},
   "outputs": [],
   "source": [
    "import numpy as np\n",
    "from io import StringIO"
   ]
  },
  {
   "cell_type": "code",
   "execution_count": 2,
   "metadata": {},
   "outputs": [],
   "source": [
    "test_input = \"\"\"..F7.\n",
    ".FJ|.\n",
    "SJ.L7\n",
    "|F--J\n",
    "LJ...\n",
    "\"\"\""
   ]
  },
  {
   "cell_type": "code",
   "execution_count": 3,
   "metadata": {},
   "outputs": [],
   "source": [
    "pipe_map = {\n",
    "    '|':('║', '│'),\n",
    "    '-': ('═', '─'),\n",
    "    'L': ('╚', '└'),\n",
    "    'J':('╝', '┘'),\n",
    "    '7':('╗', '┐'),\n",
    "    'F': ('╔', '┌'),\n",
    "}"
   ]
  },
  {
   "cell_type": "code",
   "execution_count": 4,
   "metadata": {},
   "outputs": [],
   "source": [
    "def print_pipes(input):\n",
    "    for k, v in pipe_map.items():\n",
    "        input = input.replace(k, v[1])\n",
    "    print(input)"
   ]
  },
  {
   "cell_type": "code",
   "execution_count": 5,
   "metadata": {},
   "outputs": [
    {
     "name": "stdout",
     "output_type": "stream",
     "text": [
      "..┌┐.\n",
      ".┌┘│.\n",
      "S┘.└┐\n",
      "│┌──┘\n",
      "└┘...\n",
      "\n"
     ]
    }
   ],
   "source": [
    "print_pipes(test_input)"
   ]
  },
  {
   "cell_type": "code",
   "execution_count": 6,
   "metadata": {},
   "outputs": [],
   "source": [
    "def get_grid(fn):\n",
    "    lines = np.genfromtxt(fn, dtype=str)\n",
    "    grid = np.array([np.array(list(l)) for l in lines])\n",
    "    return np.pad(grid, pad_width=1, constant_values=\".\")"
   ]
  },
  {
   "cell_type": "code",
   "execution_count": 9,
   "metadata": {},
   "outputs": [],
   "source": [
    "pathways = {\n",
    "    (-1,0): ('F', '7', '|'), # Up\n",
    "    (1,0): ('L', 'J', '|'),  # Down\n",
    "    (0,-1): ('J', '7', '-'), # Left\n",
    "    (0,1): ('F', 'L', '-'),  # Right\n",
    "}\n",
    "\n",
    "directions = {\n",
    "    '|': ((1,0),(-1,0)),\n",
    "    '-': ((0,-1),(0,1)),\n",
    "    'F': ((1,0),(0,1)),\n",
    "    '7': ((1,0),(0,-1)),\n",
    "    'J': ((-1,0),(0,-1)),\n",
    "    'L': ((-1,0),(0,1)),\n",
    "}"
   ]
  },
  {
   "cell_type": "code",
   "execution_count": 14,
   "metadata": {},
   "outputs": [],
   "source": [
    "def get_path(grid):\n",
    "    # Find the start\n",
    "    path = [np.argwhere(grid=='S')[0]]\n",
    "\n",
    "    # First step\n",
    "    for dir, valid in pathways.items():\n",
    "        _idx = path[-1] + dir\n",
    "        if grid[*_idx] in valid:\n",
    "            path.append(_idx)\n",
    "            break\n",
    "        \n",
    "    # Rest\n",
    "    while True:\n",
    "        # Next\n",
    "        pipe = grid[*path[-1]]\n",
    "        if pipe == 'S':\n",
    "            break\n",
    "\n",
    "        connected_cells = path[-1] + directions[pipe]\n",
    "        next_cell = connected_cells[~np.apply_along_axis(all, 1, connected_cells == path[-2])][0]\n",
    "        path.append(next_cell)\n",
    "    return path"
   ]
  },
  {
   "cell_type": "code",
   "execution_count": 15,
   "metadata": {},
   "outputs": [],
   "source": [
    "def part1(input):\n",
    "\n",
    "    grid = get_grid(input)\n",
    "\n",
    "    path = get_path(grid)\n",
    "\n",
    "    print(int(np.floor(len(path)/2)))"
   ]
  },
  {
   "cell_type": "code",
   "execution_count": 16,
   "metadata": {},
   "outputs": [
    {
     "name": "stdout",
     "output_type": "stream",
     "text": [
      "8\n"
     ]
    }
   ],
   "source": [
    "part1(StringIO(test_input))"
   ]
  },
  {
   "cell_type": "code",
   "execution_count": 17,
   "metadata": {},
   "outputs": [
    {
     "name": "stdout",
     "output_type": "stream",
     "text": [
      "6903\n"
     ]
    }
   ],
   "source": [
    "part1(\"inputs/day10.txt\")"
   ]
  },
  {
   "cell_type": "markdown",
   "metadata": {},
   "source": [
    "# Part 2"
   ]
  },
  {
   "cell_type": "code",
   "execution_count": 39,
   "metadata": {},
   "outputs": [],
   "source": [
    "border_map = {\n",
    "    (\"|\", (-1,0)): {(0, 1): \"A\", (0,-1): \"B\"},\n",
    "    (\"|\", (1,0)): {(0, 1): \"B\", (0,-1): \"A\"},\n",
    "    (\"-\", (0,1)): {(-1,0): \"B\", (1, 0): \"A\"},\n",
    "    (\"-\", (0,-1)): {(-1,0): \"A\", (1, 0): \"B\"},\n",
    "    (\"L\", (-1,0)): {(1, 0): \"B\", (0,-1): \"B\"},\n",
    "    (\"L\", (0,1)): {(1, 0): \"A\", (0,-1): \"A\"},\n",
    "    (\"J\", (0,-1)): {(1, 0): \"B\", (0, 1): \"B\"},\n",
    "    (\"J\", (-1,0)): {(1, 0): \"A\", (0, 1): \"A\"},\n",
    "    (\"7\", (0,-1)): {(-1,0): \"A\", (0, 1): \"A\"},\n",
    "    (\"7\", (1,0)): {(-1,0): \"B\", (0, 1): \"B\"},\n",
    "    (\"F\", (0,1)): {(-1,0): \"B\", (0,-1): \"B\"},\n",
    "    (\"F\", (1,0)): {(-1,0): \"A\", (0,-1): \"A\"},\n",
    "}"
   ]
  },
  {
   "cell_type": "code",
   "execution_count": 38,
   "metadata": {},
   "outputs": [],
   "source": [
    "def get_first_fills(grid, path):\n",
    "\n",
    "    grid_fills = grid.copy()\n",
    "    _path = [(p[0], p[1]) for p in path]\n",
    "    for i in range(1,len(path)-1):\n",
    "        _y, _x = path[i-1]-path[i]\n",
    "        _p = grid[*path[i]]\n",
    "        border_map[(_p, (_y, _x))]\n",
    "        \n",
    "        for k, v in border_map[(_p, (_y, _x))].items():\n",
    "            _cell = path[i] + k\n",
    "            if not tuple(_cell) in _path:\n",
    "                grid_fills[*_cell] = v\n",
    "\n",
    "    return grid_fills"
   ]
  },
  {
   "cell_type": "code",
   "execution_count": 42,
   "metadata": {},
   "outputs": [],
   "source": [
    "def _fill_grid(grid, path):\n",
    "    \"\"\"Fill the grid with A's and B's, \"\"\"\n",
    "    _path = [(p[0], p[1]) for p in path]\n",
    "    for idx, x in np.ndenumerate(grid):\n",
    "        # if in path continue \n",
    "        if idx in _path:\n",
    "            continue\n",
    "        if x in ('A', 'B'):\n",
    "            continue\n",
    "\n",
    "        for dir in np.array([[0,1], [0,-1], [1,0], [-1,0]]):\n",
    "            try:\n",
    "                if grid[*(idx + dir)] == 'A':\n",
    "                    grid[idx] = 'A'\n",
    "                elif grid[*(idx + dir)] == 'B':\n",
    "                    grid[idx] = 'B'\n",
    "            except:\n",
    "                pass\n",
    "    return grid\n",
    "\n",
    "\n",
    "def fill_grid(grid, path):\n",
    "    \n",
    "    while True:\n",
    "        n_filled = ((grid == 'A') + (grid == 'B')).sum()\n",
    "        grid = _fill_grid(grid, path)\n",
    "        \n",
    "        if ((grid == 'A') + (grid == 'B')).sum() == n_filled:\n",
    "            break\n",
    "    return grid"
   ]
  },
  {
   "cell_type": "code",
   "execution_count": 43,
   "metadata": {},
   "outputs": [],
   "source": [
    "def print_grid(grid, symbols=True):\n",
    "    print_pipes(\"\\n\".join([\"\".join(g) for g in grid]), symbols)"
   ]
  },
  {
   "cell_type": "code",
   "execution_count": 44,
   "metadata": {},
   "outputs": [],
   "source": [
    "def print_pipes(input, symbols=True):\n",
    "    if symbols:\n",
    "        for k, v in pipe_map.items():\n",
    "            input = input.replace(k, v[1])\n",
    "    print(input)"
   ]
  },
  {
   "cell_type": "code",
   "execution_count": 45,
   "metadata": {},
   "outputs": [],
   "source": [
    "def part2(input):\n",
    "    grid = get_grid(input)\n",
    "    path = get_path(grid)\n",
    "\n",
    "    part_filled_grid = get_first_fills(grid, path)\n",
    "    grid = fill_grid(part_filled_grid, path)\n",
    "\n",
    "    print('A', (grid == 'A').sum())\n",
    "    print('B', (grid == 'B').sum())\n",
    "    print_grid(grid)\n",
    "    "
   ]
  },
  {
   "cell_type": "code",
   "execution_count": 46,
   "metadata": {},
   "outputs": [
    {
     "name": "stdout",
     "output_type": "stream",
     "text": [
      "A 6093\n",
      "B 265\n",
      "AAAAAAAAAAAAAAAAAAAAAAAAAAAAAAAAAAAAAAAAAAAAAAAAAAAAAAAAAAAAAAAAAAAAAAAAAAAAAAAAAAAAAAAAAAAAAAAAAAAAAAAAAAAAAAAAAAAAAAAAAAAAAAAAAAAAAAAAAAAAAA\n",
      "AAAAAAAAAAAAAAAAAAAAAAAAAAAAAAAAAAAAAAAAAAAAAAAAAAAAAAAAAAAAAAAAAAAAAAAAAAAAAAAAAAAAAAAAAAAAAAAAAAAAAAAAAAAAAAAAAAAAAAAAAAAAAAAAAAAAAAAAAAAAAA\n",
      "AAAAAAAAAAAAAAAAAAAAAAAAAAAAAAAAAAAAAAAAAAAAAAAAAAAAAAAAAAAAAAAAAAAAAAAAAAAAAAAAAAAAAAAAAAAAAAAAAAAAAAAAAAAAAAAAAAAAAAAAAAAAAAAAAAAAAAAAAAAAAA\n",
      "AAAAAAAAAAAAAAAAAAAAAAAAAAAAAAAAAAAAAAAAAAAAAAAAAAAAAAAAAAAAAAAAAAAAAAAAAAAAAAAAAAAAAAAAAAAAAAAAAAAAAAAAAAAAAAAAAAAAAAAAAAAAAAAAAAAAAAAAAAAAAA\n",
      "AAAAAAAAAAAAAAAAAAAAAAAAAAAAAAAAAAAAAAAAAAAAAAAAAAAAAAAAAAAAAAAAAAAA┌┐AAAAAAAAAAAAAAAAAAAAAAAAAAAAAAAAAAAAAAAAAAAAAAAAAAAAAAAAAAAAAAAAAAAAAAAA\n",
      "AAAAAAAAAAAAAAAAAAAAAAAAAAAAAAAAAAAAAAAAAAAAAAAAAAA┌──┐AAAAAAAAAAAAA│└─┐AAAAAAAAAAAAAAAAAAAAAAAAAAAAAAAAAAAAAAAAAAAAAAAAAAAAAAAAAAAAAAAAAAAAAA\n",
      "AAAAAAAAAAAAAAAAAAAAAAAAAAAAAAAAAAAA┌─┐AAAAAAAAAAAA│┌─┘AAAAAAAAA┌┐AA└─┐└┐AAAAAAAAAAAAAAAAAAAAAAAAAAAAAAAAAAAAAAAAAAAAAAAAAAAAAAAAAAAAAAAAAAAAA\n",
      "AAAAAAAAAAAAAAAAAAAAAAAAAAAAAAAAAAAA│┌┘AAAAAAAAAAA┌┘│AAAAAAAAAAA││AA┌┐└┐│AAAAAAAAAAAAAAA┌┐A┌┐AAAAAAAAAAAAAAAAAAAAAAAAAAAAAAAAAAAAAAAAAAAAAAAAA\n",
      "AAAAAAAAAAAAAAAAAAAA┌┐AAAAAAAAAAAAAA││AAAAAAAAAAA┌┘┌┘AAAAAAAAAA┌┘└──┘│┌┘└─┐AAAAAAAAAAA┌─┘└─┘└┐AAAAAAAAAAAAAAAAAAAAAAAAAAAAAAAAAAAAAAAAAAAAAAAA\n",
      "AAAAAAAAAAAAAAAAAAAA││AAAAAA┌┐AAAAA┌┘│A┌┐AAAAA┌─┐└┐│AAAAAAAAAAA│┌─┐┌┐└┘┌┐┌┘AAAAAAAAAAA└┐┌──┐┌┘┌┐AAAAAAAAAAAAAAAAAAAAAAAAAAAAAAAAAAAAAAAAAAAAAA\n",
      "AAAAAAAAAAAAAAAAAAAA││AAAAAA│└┐AAAA└┐└┐││AAA┌┐└┐└┐│└──┐AAAAAAAA││A└┘└─┐│└┘AAAAAAAAAAAAA└┘┌┐││A││AAAAAAAAAAAAAAAAAAAAAAAAAAAAAAAAAAAAAAAAAAAAAA\n",
      "AAAAAAAAAAAAAAAAA┌──┘│AAAAAA└┐│A┌┐AA└┐│││AA┌┘└┐└┐└┘┌──┘AAAAAAAA└┘┌──┐┌┘└┐┌┐A┌─┐AAAAA┌┐A┌┐│││└─┘└┐AAAA┌─┐AAAAAAAAAAAAAAAAAAAAAAAAAAAAAAAAAAAAAA\n",
      "AAAAAAAAAAAAA┌┐AA│┌─┐│AA┌──┐┌┘└─┘│┌──┘└┘└┐A└┐┌┘┌┘┌─┘┌─┐AA┌──┐AAAA└─┐│└─┐└┘└┐│┌┘AAAAA│└─┘└┘└┘┌──┐└┐AAA└┐└─┐AAAAAAAAAAAAAAAAAAAAAAAAAAAAAAAAAAAA\n",
      "AAAAAAAAAAAAA││AA└┘A││┌┐│┌─┘└───┐│└───┐┌┐└┐┌┘└┐└┐│┌┐│┌┘AA│┌┐│AAAA┌┐││┌┐│┌──┘││┌┐AAAA└────┐┌┐└─┐└─┘AA┌┐│┌─┘AAAAAAAAAAAAAAAAAAAAAAAAAAAAAAAAAAAA\n",
      "AAAAAAAAAAA┌┐││A┌┐┌┐│││└┘└┐┌────┘└┐A┌┐││└─┘│┌┐│┌┘└┘└┘│AA┌┘│└┘A┌┐┌┘└┘└┘└┘└──┐││││A┌┐AA┌──┐└┘└┐┌┘┌┐┌┐A││││AAAAAAAAAAAAAAAAAAAAAAAAAAAAAAAAAAAAAA\n",
      "AAAAAAAAAAA│└┘└┐││││││└─┐┌┘└──┐┌─┐│┌┘││└──┐└┘│└┘┌┐┌──┘┌┐└┐└┐AA││└──────┐┌──┘│││└─┘│┌─┘┌─┘┌┐A│└─┘││└┐│└┘└┐AAAAAAA┌─┐AAAAAAAAAAAAAAAAAAAAAAAAAAA\n",
      "AAAAAAAAAAA│┌─┐└┘└┘│││┌┐│└┐┌┐A└┘A││└┐└┘┌──┘┌┐│┌─┘│└──┐││A│┌┘┌─┘│┌┐┌┐┌──┘└┐┌┐│││┌──┘└─┐│┌┐││┌┘┌──┘│┌┘└─┐┌┘┌┐AAAAA│┌┘AAAAAAAAAAAAAAAAAAAAAAAAAAA\n",
      "AAAAAAAAAAA└┘A└───┐││││└┘┌┘││┌┐┌┐│└┐└┐┌┘┌─┐││││┌─┘┌┐┌┘││┌┘└┐└─┐└┘└┘│└──┐┌┘│││└┘└┐┌┐┌┐│││││└┘┌┘┌──┘│A┌─┘└─┘└┐AA┌─┘└┐AAAAAAAAAAAAAAAAAAAAAAAAAAA\n",
      "AAAAAAAAAAAAA┌────┘│││└─┐└─┘││└┘││┌┘┌┘│A└┐│││└┘└─┐│└┘A││└┐┌┘┌┐└───┐│A┌─┘└┐│││┌──┘│││││││└┘┌┐└┐└──┐└┐└─┐┌───┘┌┐└─┐┌┘AAAAAAAAAAAAAAAAAAAAAAAAAAA\n",
      "AAAAAAAAAAAAA│┌───┐└┘└─┐│┌──┘│┌┐└┘└┐└┐└┐┌┘└┘└┐A┌┐│└┐┌─┘└┐│└┐│└┐┌┐┌┘└┐└──┐││││└┐┌─┘││└┘│└┐┌┘└─┘┌─┐│┌┘A┌┘└───┐│└┐┌┘└┐AAA┌─┐┌┐AAAAAAAAAAAAAAAAAAA\n",
      "AAAAAAAAAAAAA││A┌─┘┌┐┌┐└┘│┌┐A└┘│┌─┐└─┘┌┘│┌─┐┌┘┌┘└┘┌┘│┌──┘└┐│└┐│││└─┐└─┐A│││└┘┌┘│┌┐│└─┐└┐││┌┐┌┐└┐└┘│┌┐└─┐┌──┘└┐││┌─┘A┌┐│┌┘│└─┐A┌┐AAAAAAAAAAAAAA\n",
      "AAAAAAAAAAAA┌┘│A└──┘││└─┐││└┐┌┐└┘A└──┐└─┘└┐└┘A└──┐└┐│└┐┌┐┌┘│┌┘└┘│┌┐└─┐│┌┘└┘┌─┘┌┘│└┘A┌┘┌┘│││└┘│A└─┐│││┌┐││┌┐A┌┘││└┐A┌┘└┘└┐│┌─┘┌┘└─┐AAAAAAAAAAAA\n",
      "AAAAAAAAAAAA└─┘┌┐┌──┘│┌─┘└┘┌┘││┌┐AA┌┐└┐┌──┘┌┐AA┌┐│┌┘│┌┘│││┌┘│┌──┘││A┌┘│└┐┌┐│┌┐└┐└──┐└┐└┐│││┌─┘┌┐┌┘└┘└┘││││└┐└┐│└┐└┐└─┐┌─┘│└┐A└┐┌─┘AAAAAAAAAAAA\n",
      "AAAAAAAAAAAAAA┌┘│└─┐┌┘└─┐┌─┘┌┘││└┐┌┘│┌┘└┐┌┐│└┐┌┘└┘└┐│└┐││││A│└┐┌─┘└┐└┐│A└┘│└┘└─┘┌──┘┌┘┌┘│││└┐A││└┐┌───┘│││┌┘┌┘└┐└┐└─┐││┌┐│┌┘A┌┘└┐AAAAAAAAAAAAA\n",
      "AAAAAAAAAAAAAA└┐│┌─┘└┐┌─┘└─┐└┐││┌┘└┐││┌─┘│└┘┌┘└───┐││┌┘│││└┐│┌┘└──┐└─┘│┌┐A└┐┌──┐└┐┌┐└┐└─┘│└┐└┐││┌┘└┐┌┐┌┘└┘└┐└┐┌┘┌┘┌─┘│└┘└┘└─┐│┌┐└┐AAAAAAAAAAAA\n",
      "AAAAAAAAAAAAA┌─┘└┘┌─┐│└───┐│A│││└┐┌┘│││┌┐│┌─┘┌─┐┌─┘└┘│┌┘│└┐└┘└─┐┌┐└─┐┌┘│└─┐││┌─┘┌┘││A└──┐└─┘┌┘│││┌─┘│││┌───┘┌┘└┐└┐│┌┐│┌─────┘││└─┘AAAAAAAAAAAA\n",
      "AAAAAAAAAAAAA└─┐┌┐│┌┘│┌───┘└┐││└┐│└┐││││││└┐A└┐│└──┐┌┘│┌┘A└┐┌┐┌┘││A┌┘└┐│┌─┘└┘└─┐│A││┌─┐┌┘┌──┘┌┘│││┌┐││││A┌┐A└┐┌┘┌┘└┘└┘└────┐┌┘└┐A┌──┐AAAAAAAAA\n",
      "AAAAAAAAAAAAAAA└┘││└┐│└┐┌┐┌┐└┘└┐│└┐││││││└┐│┌┐││A┌─┘└┐││┌┐┌┘│└┘┌┘└┐│┌─┘│└┐┌┐A┌┐│└┐│││┌┘└┐│A┌┐└┐││││└┘││└┐││┌┐││┌┘┌┐┌┐┌─────┘│┌─┘┌┘┌─┘AAAAAAAAA\n",
      "AAAAAAAAAAAAAAAAA└┘A││A└┘└┘└┐┌┐└┘┌┘│││└┘└┐│││││└┐│┌┐┌┘│└┘│└┐│┌┐└─┐└┘└─┐│┌┘││┌┘│└┐│││││A┌┘└┐│└┐│└┘└┘┌─┘│┌┘│││││└┘┌┘││└┘┌─┐┌┐A││┌─┘┌┘AAAAAAAAAAA\n",
      "AAAAAAAAAAAAAAAA┌┐┌┐└┘┌┐┌───┘││┌┐└─┘│└─┐┌┘│└┘││┌┘└┘│└┐│┌─┘A│└┘└┐A└─┐┌─┘││┌┘│└┐└┐│││└┘└─┘┌─┘│┌┘└┐┌─┐│┌┐││┌┘└┘└┘┌┐│A└┘┌┐│┌┘││┌┘└┘┌┐└┐AAAAAAAAAAA\n",
      "AAAAAAAAAAAAAAAA│││└─┐││└──┐┌┘└┘└──┐└──┘└─┘┌─┘││┌┐┌┘┌┘││A┌┐└─┐┌┘┌┐┌┘│┌┐│└┘┌┘┌┘┌┘│││┌─┐┌─┘┌┐│└┐A└┘A││││││└┐┌───┘│└───┘└┘└┐│││┌──┘│┌┘AAAAAAAAAAA\n",
      "AAAAAAAAAAAAA┌┐┌┘│└─┐│││┌┐A└┘┌┐┌───┘┌──┐┌──┘┌─┘│││└┐│A│└┐││┌─┘└┐│││┌┘││└─┐│┌┘┌┘┌┘││└┐└┘┌┐│││┌┘┌┐┌┐││││││A││┌┐┌┐└──┐┌┐┌──┘│││└──┐└┘AAAAAAAAAAAA\n",
      "AAAAAAAAAAA┌┐││└┐│┌┐│││└┘│┌──┘│└───┐│┌┐└┘┌─┐└┐┌┘│└─┘└─┘┌┘││└┐┌─┘│││└┐│└─┐││└┐└┐└┐││┌┘┌┐│││││└┐│││└┘││└┘│┌┘└┘└┘│┌┐A└┘││┌─┐│││┌┐┌┘┌┐┌┐AAAAAAAAAA\n",
      "AAAAAAAAAA┌┘└┘└─┘└┘│││└─┐│└─┐┌┘┌───┘└┘└─┐└┐│┌┘└┐└──┐┌──┘A││A││A┌┘└┘┌┘└┐┌┘││A└┐└┐│││└┐│└┘││││┌┘││└─┐└┘┌─┘└┐┌───┘││┌┐A└┘│┌┘│││││└─┘└┘│AAAAAAAAAA\n",
      "AAAAAAAAA┌┘┌┐┌┐┌┐┌┐└┘└──┘└┐┌┘└┐│┌┐┌─┐┌──┘┌┘│└─┐└┐┌┐││┌┐┌┐││┌┘└┐└┐┌┐│┌┐│└┐││┌┐└┐││││┌┘└┐┌┘│││└┐│└┐A└─┐└┐┌┐│└─┐┌┐│└┘│┌─┐│└┐││││└───┐┌┘AAAAAAAAAA\n",
      "AAAAAAAAA└┐│││││└┘└┐┌┐┌──┐││┌┐│└┘└┘A││A┌┐│┌┘┌┐│┌┘│││││││││││┌─┘A││└┘││└┐│││││A││││││┌┐││A││└┐││┌┘┌┐A└┐││││┌─┘│││┌─┘│┌┘└┐││││└───┐└┘AAAAAAAAAAA\n",
      "AAAAAAAAAA└┘└┘└┘┌┐A└┘└┘┌┐││└┘││┌┐A┌┐│└┐││││┌┘││└┐│││└┘└┘│││││┌┐┌┘└┐┌┘│┌┘││└┘└┐│││└┘││││└┐│└┐│││└┐││┌┐│││└┘└──┘└┘└─┐││┌┐│└┘└┘┌───┘┌───┐AAAAAAAA\n",
      "AAAAAAAAAAAA┌───┘└─┐┌──┘└┘└──┘└┘└─┘└┘B└┘││││┌┘│┌┘│││┌───┘│││││││┌─┘│┌┘│┌┘└──┐│││└┐B││││┌┘└┐││└┘┌┘│││││││┌─────────┘│││││┌───┘┌┐┌─┘┌┐┌┘AAAAAAAA\n",
      "AAAAAAAAAAAA└┐┌───┐│└────────┐┌───────┐┌┘││││┌┘└┐│││└─┐┌┐│└┘││└┘│┌┐│└─┘└┐┌─┐│││└┐└┐└┘││└┐┌┘│└─┐│┌┘││││││└──┐┌─┐┌───┘└┘└┘└────┘││┌┐│└┘AAAAAAAAA\n",
      "AAAAAAAAAAAAA└┘┌──┘└─┐A┌──┐┌┐└┘┌──────┘│┌┘││││┌┐│││└┐B└┘││┌─┘└─┐└┘│└┐┌──┘└┐└┘│└┐└┐│B┌┘└┐│└┐│┌┐│││┌┘│││││┌──┘└┐└┘┌─┐┌┐┌┐┌──┐┌─┐└┘││└┐AAAAAAAAAA\n",
      "AAAAAAAAAAAAA┌┐└──┐┌─┘┌┘┌┐└┘│┌┐└┐┌────┐│└┐└┘│└┘││││┌┘┌┐┌┘││┌┐┌┐└─┐│┌┘│┌┐┌┐└─┐└┐│┌┘└┐└┐┌┘│┌┘││└┘││└─┘││││└────┘┌┐└┐││└┘│└─┐│└┐└┐┌┘│┌┘AAAAAAAAAA\n",
      "AAAAAAAAAA┌──┘└───┘│┌┐└─┘└─┐└┘└┐││┌───┘└─┘┌─┘┌┐│││││┌┘└┘┌┘│││││┌─┘││B└┘││└┐┌┘┌┘│└┐┌┘B│└┐││┌┘└┐┌┘└─┐B└┘└┘┌─────┘└─┘│└─┐└──┘└─┘A└┘A└┘AAAAAAAAAAA\n",
      "AAAAAAAAAA└───────┐└┘│┌┐┌─┐└─┐┌┘└┘└──────┐└┐┌┘││└┘││└┐┌┐│B└┘└┘│└─┐│└┐B┌┘│┌┘└┐│┌┘┌┘└─┐│┌┘││└┐┌┘│┌─┐│┌┐┌─┐└─┐A┌────┐└──┘┌─┐┌─────┐┌───┐AAAAAAAAA\n",
      "AAAAAAAAA┌─┐AA┌───┘┌┐└┘│└┐└──┘│┌┐┌─┐┌┐┌─┐│┌┘└┐│└─┐││┌┘││└──┐┌─┘┌┐│└┐│┌┘┌┘└┐┌┘││B└┐┌┐│└┘B│└┐││┌┘└┐││││└┐│┌┐└─┘┌┐┌─┘┌─┐A│┌┘│┌────┘└┐┌─┘AAAAAAAAA\n",
      "AAAAAAAAA└┐└──┘┌┐┌─┘└─┐└┐└───┐└┘│└┐││└┘┌┘││┌┐│└──┘│││┌┘│┌┐┌┘└─┐│└┘B└┘└┐└┐B│└┐│└─┐│││└──┐└─┘││└┐┌┘││││┌┘│││┌──┘└┘┌┐└┐│┌┘└─┘└───┐┌┐││┌┐AAAAAAAAA\n",
      "AAAAAAAA┌─┘┌─┐┌┘└┘┌┐┌┐└┐└─┐┌┐│┌┐└─┘│└─┐│┌┘│││└───┐││││B│││└┐┌─┘└─┐┌───┘┌┘┌┘┌┘│┌─┘│││┌┐┌┘┌┐┌┘│B││B└┘││└┐│││└─────┘└┐│││┌───────┘│└┘└┘└─┐AAAAAAA\n",
      "AAAAAAAA└┐┌┘A└┘┌──┘└┘└─┘┌┐└┘└┘│└┐┌┐│┌─┘└┘B└┘│┌┐┌─┘└┘└┘┌┘│└┐││┌┐┌┐││┌─┐┌┘B└┐└┐│└─┐└┘└┘│└─┘│└─┘┌┘│┌──┘└─┘└┘└───────┐└┘└┘└─────┐┌─┘┌┐┌──┐│AAAAAAA\n",
      "AAAAAAAAA││AA┌┐└──┐┌┐┌┐┌┘│┌┐┌┐└┐└┘│└┘┌┐┌┐B┌┐└┘└┘┌┐┌───┘┌┘┌┘│││││││└┘┌┘└─┐B└┐││┌┐└──┐B│┌┐┌┘┌─┐│┌┘└──┐┌┐┌┐┌───────┐└┐┌┐┌┐┌─┐┌┐└┘┌┐││└─┐└┘AAAAAAA\n",
      "AAAAAAAAA└┘┌─┘│┌──┘│││││┌┘│└┘└┐│┌─┘┌─┘│││┌┘└┐B┌─┘│└───┐└┐└┐││││││└┐B└─┐┌┘┌─┘││││┌─┐└┐│││└┐└┐│└┘┌───┘│││││┌─┐┌─┐┌┘A└┘││││A└┘└─┐│└┘└──┘AAAAAAAAA\n",
      "AAAAAAAAAAA└─┐└┘┌┐┌┘└┘││└─┘┌┐A└┘└──┘┌─┘│││┌─┘┌┘┌┐└┐B┌┐│┌┘B││└┘││└┐└──┐│└┐└┐┌┘│││└┐│┌┘││└┐│B││┌┐└─┐┌┐│││└┘└┐└┘A│└───┐└┘│└────┐└┘A┌┐A┌┐AAAAAAAAA\n",
      "AAAAAAAA┌──┐A└─┐│││A┌┐└┘A┌─┘└─┐┌───┐└─┐││││┌─┘┌┘└─┘┌┘└┘│┌┐└┘┌─┘│B│┌┐┌┘└┐│┌┘│┌┘│└┐│││┌┘└┐└┘┌┘└┘│┌─┘│││││┌─┐└──┐└────┘┌┐│┌┐┌─┐└──┐││┌┘└┐AAAAAAAA\n",
      "AAAAAAAA└┐┌┘A┌┐└┘│└┐│└───┘┌──┐│└──┐│┌─┘│││└┘┌┐└─┐┌┐└──┐└┘└┐B└─┐│┌┘││└─┐│││┌┘└┐│┌┘│└┘│┌┐│┌┐└──┐│└──┘└┘└┘└┐└───┘┌─────┘│││└┘A│┌─┐└┘└┘┌─┘AAAAAAAA\n",
      "AAAAAAA┌─┘└─┐│└┐A└┐││┌┐┌┐┌┘┌─┘└──┐││└──┘└┘┌┐││┌┐└┘└─┐B│┌──┘┌──┘│└┐││┌┐│└┘│└┐┌┘│└┐└─┐│││││└───┘└─────┐B┌┐└─────┘┌──┐┌┐││└──┐│└┐│┌┐┌┐└─┐AAAAAAAA\n",
      "AAAAAAA└───┐└┘┌┘┌┐││└┘└┘└┘A└────┐└┘│┌┐┌┐┌─┘└┘└┘│┌─┐┌┘┌┘└─┐B│┌─┐│┌┘││││└┐B└┐│└┐└┐│┌┐│└┘└┘└────┐┌┐┌──┐│┌┘└───────┘┌┐└┘└┘└───┘└┐│││└┘└──┘AAAAAAAA\n",
      "AAAAAAAA┌┐A└─┐└─┘│└┘A┌┐┌──┐┌────┘┌┐└┘└┘│└─────┐└┘┌┘│B└┐┌┐└┐└┘┌┘││┌┘││└┐└┐┌┘│B└┐││││└──┐┌┐┌───┘│││┌─┘│└─┐┌──┐┌───┘└┐┌┐┌────┐A└┘│└─┐AAAAAAAAAAAA\n",
      "AAA┌─┐AA││┌──┘┌──┘┌┐┌┘││┌┐│└───┐┌┘└─┐┌┐└──┐┌──┘┌┐└─┘┌┐││└┐└─┐└┐││└┐│└┐│┌┘│┌┘┌┐││││└┐┌┐││└┘┌──┐││││┌┐└─┐└┘┌─┘│┌────┘│└┘┌┐┌┐└──┐│┌─┘AAAAAAAAAAAA\n",
      "AAA└┐│┌┐││└──┐└┐┌┐││└┐│└┘││A┌──┘│┌──┘│└─┐┌┘└──┐│└┐B┌┘│││B│┌─┘B└┘│┌┘│┌┘└┘┌┘│┌┘└┘│└┘B└┘└┘└┐┌┘┌┐└┘└┘│││┌┐└─┐└──┘└┐A┌──┘┌┐││││┌┐┌┘│└┐AAAAAAAAAAAAA\n",
      "AAAA│└┘└┘│A┌┐│┌┘│└┘│┌┘└┐┌┘│┌┘┌──┘└──┐│┌─┘└────┘└┐│┌┘┌┘│└┐│└┐┌───┘└┐└┘┌┐B│┌┘└──┐└───┐┌──┐└┘┌┘└───┐││└┘└─┐└──┐┌┐└─┘┌┐┌┘└┘└┘││││A└─┘AAAAAAAAAAAAA\n",
      "AAAA└───┐│┌┘└┘└┐└─┐│└─┐│└┐│└─┘┌┐A┌─┐└┘└───┐┌┐B┌┐│││┌┘B│┌┘│┌┘└┐┌──┐└──┘└┐└┘┌───┘┌───┘└─┐└─┐└────┐│└┘B┌┐B└┐┌┐└┘└───┘└┘┌┐A┌┐└┘││AAAAAAAAAAAAAAAAA\n",
      "AAA┌────┘└┘┌─┐┌┘┌─┘│┌┐│└─┘└───┘│┌┘┌┘┌┐┌┐┌─┘││┌┘└┘└┘└─┐└┘B└┘BB└┘┌┐│┌┐┌┐┌┘┌─┘┌┐┌┐└┐B┌───┘┌┐└┐B┌┐┌┘└┐┌┐││┌┐││└───┐┌┐┌──┘└─┘└─┐└┘AAAAAAAAAAAAAAAAA\n",
      "A┌┐└──────┐└┐│└┐└─┐│││└───────┐││┌┘┌┘└┘└┘B┌┘└┘┌┐┌─┐┌─┘┌┐┌┐B┌┐┌─┘└┘│││││B└─┐│└┘└┐└┐│┌┐┌┐│└┐└─┘└┘┌┐└┘└┘│││└┘┌──┐└┘││┌────┐┌─┘AAAAAAAAAAAAAAAAAAA\n",
      "A││┌┐┌┐A┌┐│┌┘└┐│A┌┘│││┌┐┌┐A┌┐┌┘└┘└┐└─────┐└─┐┌┘└┘┌┘└──┘└┘└─┘│└┐┌─┐│││└┘┌──┘└──┐└┐│││││└┘B└┐┌───┘└───┐│││┌─┘┌┐└─┐││└─┐┌┐└┘┌┐AAAAAAAAAAAAAAAAAAA\n",
      "A│└┘└┘│┌┘│└┘┌─┘└┐└┐││││││└─┘└┘┌─┐┌┘┌──┐┌┐└──┘└─┐B└──────┐┌──┘┌┘└┐│││└─┐└┐┌┐┌┐┌┘┌┘│││└┘┌┐┌┐││┌───────┘│││└──┘│┌┐└┘│┌─┘│└──┘└┐A┌┐AAAAAAAAAAAAAAA\n",
      "A└┐┌─┐│└┐│┌┐└──┐│┌┘│││││└──┐┌┐│┌┘└┐└─┐││└─┐┌┐┌─┘┌───┐┌┐B└┘B┌┐└┐┌┘│││┌─┘B└┘└┘│└┐│┌┘││┌─┘└┘└┘│└──┐┌─┐┌┐└┘└───┐└┘└──┘└┐┌┘┌──┐┌┘A│└┐A┌─┐AAAAAAAAAA\n",
      "AA└┘┌┘└─┘└┘└───┘└┘┌┘│└┘└───┘││││┌┐└──┘└┘┌┐││└┘┌─┘┌─┐└┘└────┘└┐││┌┘││└─┐BBBB┌┘┌┘│└┐└┘└──────┘┌──┘│┌┘│└┐┌┐┌─┐└────┐┌─┘└┐│┌┐└┘┌┐│┌┘A└┐└──┐AAAAAAA\n",
      "AAAA└┐┌─┐┌─┐┌──┐┌┐└─┘┌┐┌─┐┌─┘││││└┐┌┐┌──┘││└──┘┌─┘┌┘┌─┐┌─────┘└┘└┐│└┐┌┘BBBB└┐└┐└─┘B┌──┐┌─┐┌┐└──┐│└┐└┐└┘└┘B└────┐└┘┌┐┌┘└┘└─┐││││┌┐A│┌──┘AAAAAAA\n",
      "A┌┐┌┐└┘┌┘│┌┘│┌─┘││┌─┐││└┐└┘┌┐└┘└┘A└┘└┘┌┐┌┘└┐┌┐┌┘┌┐└┐└┐│└─┐B┌─┐┌┐┌┘│B│└─┐BBBB└┐└┐BBB└┐┌┘└┐└┘└┐┌┐└┘B└─┘┌────────┐└┐A│└┘┌────┘│││││└─┘└──┐AAAAAAA\n",
      "A│└┘│┌┐└┐│└─┘└─┐│││┌┘││┌┘┌─┘└┐┌┐┌─────┘└┘┌┐└┘│└─┘└┐└─┘└─┐└┐│┌┘││└─┘┌┘┌─┘BBBBB└┐│BBBB││┌┐└──┐└┘└──┐B┌┐└─┐┌────┐└─┘┌┘┌┐└──┐┌┐│││└┘┌─┐┌──┘AAAAAAA\n",
      "A└─┐└┘└─┘│┌┐┌┐┌┘│││└┐│└┘A└─┐┌┘││└────┐┌┐B│└┐┌┘┌─┐┌┘┌┐┌┐B└─┘││┌┘└─┐B└┐└┐BBBBBBB└┘┌─┐┌┘└┘│┌┐B└────┐└─┘└──┘│┌─┐┌┘┌┐A│┌┘└───┘│││││┌─┘┌┘└──┐AAAAAAA\n",
      "AAA└─────┘│└┘└┘┌┘││┌┘│┌────┘└─┘│┌┐┌──┘│└┐└┐│└┐└┐└┘┌┘│││┌┐┌┐│││┌──┘┌┐└─┘BBBBBBBBB└┐│└──┐│││┌┐┌──┐└──┐┌───┘└┐└┘A│└─┘└┐┌┐┌┐┌┘└┘└┘└─┐└──┐┌┘AAAAAAA\n",
      "AAAA┌─────┘┌┐┌┐│A└┘└─┘└─────┐┌┐└┘│└─┐┌┘┌┘┌┘└┐└─┘┌┐│┌┘│││└┘└┘└┘└───┘└──┐BBBBBBBBBB│└───┘└┘└┘└┘┌┐└───┘│┌────┘┌──┘┌──┐└┘└┘└┘┌┐┌┐┌──┘┌─┐│└─┐AAAAAA\n",
      "AAAA└─────┐│└┘└┘┌┐┌┐A┌──┐┌┐┌┘│└─┐└─┐└┘┌┘B└─┐│┌┐B│└┘└┐│└┘┌─┐┌─────┐┌─┐┌┘BBBBBBBB┌─┘┌┐┌┐┌┐┌┐┌─┐│└┐┌───┘└────┐│┌─┐└─┐└┐┌────┘└┘└┘A┌┐│┌┘│┌─┘AAAAAA\n",
      "AAAA┌─────┘└┐A┌┐│└┘└─┘┌┐└┘└┘┌┘┌┐└┐┌┘┌─┘B┌┐B│└┘│┌┘┌──┘│┌┐└┐│└────┐└┘B└┘BBBBBBBBB└─┐│││└┘└┘└┘┌┘│┌┘│┌───────┐└┘└┐└─┐│A│└───┐┌┐A┌─┐│└┘└┐└┘AAAAAAAA\n",
      "AAAA└┐┌┐┌┐┌┐│┌┘└┘┌┐┌─┐││┌──┐│┌┘│┌┘└─┘┌─┐│└┐│┌─┘└┐└───┘│└─┘└─────┘┌─┐┌─┐BBBBBBBBBB└┘└┘B┌──┐B│┌┘│┌┘│┌┐┌───┐└───┘A┌┘└┐└───┐││└┐└┐││┌──┘┌┐AAAAAAAA\n",
      "AAAAA└┘││││└┘└─┐┌┘└┘A││││┌─┘│└┐└┘┌───┘┌┘│┌┘││B┌─┘┌┐┌──┘B┌┐┌┐B┌┐┌─┘┌┘│┌┘BBBBBBBBBB┌┐B┌┐└─┐└─┘└┐││B└┘└┘┌┐B└─────┐└─┐└──┐A└┘│┌┘┌┘│││┌┐A││┌┐AAAAAA\n",
      "AAAAAAA││└┘┌───┘│┌───┘│└┘│┌┐└┐└─┐│┌┐┌─┘┌┘└┐│└─┘┌─┘└┘┌┐┌┐│└┘└─┘││┌─┘┌┘└┐BBBBB┌─┐┌─┘└─┘└──┘┌┐┌─┘└┘┌────┘└───────┘┌┐└───┘┌┐┌┘└┐└┐└┘││└─┘└┘└─┐AAAA\n",
      "AAAAAAA└┘┌─┘┌──┐│└────┘┌┐└┘└─┘A┌┘││└┘┌─┘┌┐└┘┌┐┌┘B┌┐B│││││┌────┘│└─┐└┐┌┘BBBBB│┌┘└───┐┌──┐┌┘││┌──┐└─────────┐┌┐┌─┘└┐┌───┘└┘┌┐└┐│┌┐└┘┌──────┘AAAA\n",
      "AAAAAAA┌─┘┌┐└┐┌┘│┌────┐││┌────┐└─┘└─┐└┐┌┘└─┐││└┐┌┘└─┘└┘└┘└─────┘┌┐└─┘└─┐BBBB│└┐B┌┐B└┘┌┐└┘B└┘└─┐└┐┌┐┌┐┌┐┌┐B││└┘┌─┐└┘┌┐┌──┐│└┐└┘││┌─┘┌┐┌┐AAAAAAA\n",
      "AAAAAAA└─┐││┌┘└┐│└───┐└┘└┘┌┐┌┐└────┐└─┘└──┐││└┐└┘┌┐┌─┐┌────────┐│└┐┌─┐┌┘B┌┐┌┘┌┘┌┘└───┘└────┐┌┐└┐││└┘└┘└┘└┐└┘┌─┘A│┌─┘│└─┐│└┐└┐┌┘││┌─┘└┘└┐AAAAAA\n",
      "AAAAAAA┌─┘│└┘┌┐└┘┌───┘┌─┐┌┘└┘└┐┌──┐│┌─┐┌─┐│││B│┌─┘└┘┌┘└───────┐│└┐└┘B└┘BB│└┘┌┘B└──────┐┌┐┌┐└┘└─┘└┘┌─────┐└─┐└──┐│└─┐│┌┐││┌┘┌┘└┐│└┘┌──┐┌┘AAAAAA\n",
      "AAAAAAA└─┐└─┐│└──┘┌──┐└┐││┌┐┌─┘│┌─┘└┘B│└┐└┘└┘┌┘└──┐┌┘┌─┐┌┐┌─┐┌┘└─┘┌┐┌┐┌┐B└─┐└┐BB┌───┐B└┘││└────┐┌┐│┌────┘┌┐│┌┐┌┘└──┘└┘└┘││A└──┘│┌┐└─┐└┘AAAAAAA\n",
      "AAAAAAAA┌┘┌─┘└────┘┌─┘┌┘└┘││└──┘│┌┐┌─┐└┐└───┐└┐┌─┐││┌┘B│││└┐│└───┐│└┘└┘│┌┐┌┘┌┘┌┐└──┐└──┐└┘┌────┘││││┌┐┌──┘│└┘│└──┐┌─┐┌┐A└┘┌─┐┌─┘│└──┘AAAAAAAAA\n",
      "AAAAAAAA│┌┘┌────┐┌┐│┌┐└─┐A││┌┐┌┐└┘└┘┌┘B└────┘B└┘B└┘│└┐┌┘││┌┘└────┘└─┐┌─┘││└┐└┐││B┌┐│┌──┘┌┐└─────┘└┘└┘└┘┌──┘┌┐└───┘└┐││└─┐┌┘┌┘└─┐└───┐AAAAAAAAA\n",
      "AAAAAAAA└┘A└┐┌─┐└┘└┘│└──┘┌┘└┘└┘└─┐┌┐└─────────────┐└┐│└┐│││┌┐┌┐┌┐B┌┐││┌┐│└─┘┌┘│└─┘││└───┘└───────┐┌┐┌┐B└───┘└──┐┌┐┌┘└┘┌─┘│┌┘┌┐┌┘┌┐┌┐└┐AAAAAAAA\n",
      "AAAAAAAAAAAA└┘┌┘┌┐┌─┘┌┐┌┐│┌─┐┌┐┌┐└┘└──┐┌─┐┌─────┐┌┘┌┘│┌┘│└┘││││││┌┘││└┘│└──┐└─┘┌──┘└┐┌─┐┌─┐┌┐┌┐┌┐└┘└┘└─┐┌──────┘│└┘┌──┘┌─┘└┐││└┐│└┘└┐└┐AAAAAAA\n",
      "AAAAAAAAAAAA┌─┘┌┘││┌┐│││└┘└┐└┘└┘└─┐┌─┐│└┐│└────┐│└┐└─┘└┐└─┐│└┘│││└┐││┌─┘B┌─┘┌┐┌┘B┌┐B└┘┌┘└┐└┘└┘││└┐┌┐┌─┐└┘┌──────┘┌┐└───┘┌─┐└┘│A└┘┌┐A└─┘AAAAAAA\n",
      "AAAAAAAAAAAA└─┐└┐└┘││││└┐┌─┘A┌┐┌──┘│┌┘│┌┘│┌┐┌──┘└─┘┌──┐│┌┐││┌┐└┘└─┘└┘└┐┌┐└─┐│││┌┐││┌─┐└──┘┌┐┌┐││┌┘│└┘B└──┘┌─┐┌┐┌┐│└──┐┌┐└┐│┌┐└┐┌─┘└┐AAAAAAAAAA\n",
      "AAAAAAAAAAAAAA└┐│┌─┘││└┐└┘┌──┘└┘┌──┘└┐││┌┘││└────┐┌┘┌┐│└┘└┘│││┌┐┌───┐┌┘││B┌┘│└┘│││││┌┘B┌─┐│└┘└┘│└─┘B┌┐B┌──┘A└┘│││└──┐└┘└─┘└┘└┐└┘┌──┘AAAAAAAAAA\n",
      "AAAAAAAAAAAAAAA└┘└─┐│└┐│┌┐└─────┘┌───┘││└┐││┌┐┌──┘│┌┘└┘┌──┐└┘││└┘B┌┐│└─┘└┐└┐└┐┌┘│││││┌┐└┐│└────┘┌┐B┌┘└┐└──┐┌─┐└┘└───┘A┌────┐A└─┐└─┐┌┐AAAAAAAAA\n",
      "AAAAAAAAAAAAAA┌────┘└─┘└┘└──────┐└──┐B└┘B││││└┘B┌┐│└┐B┌┘┌┐│┌┐└┘B┌┐││└┐┌──┘┌┘┌┘└┐└┘││└┘│┌┘└┐┌┐┌──┘└─┘┌┐└───┘│┌┘┌┐A┌┐┌┐┌┘┌───┘┌┐A└─┐└┘└┐AAAAAAAA\n",
      "AAAAAAAAAAAAAA└┐┌┐┌┐┌──┐┌┐┌┐┌──┐│A┌─┘┌┐┌┐└┘└┘B┌┐│└┘┌┘┌┘┌┘└┘││B┌─┘└┘└─┘│┌┐B└┐│BB└─┐└┘┌─┘└─┐│││└─────┐│└┐┌┐┌┐│└─┘└─┘│││└┐└────┘└┐AA└┐┌─┘AAAAAAAA\n",
      "AAAAAAAAAAAAAA┌┘│││└┘┌─┘│││││┌─┘└─┘┌─┘└┘└┐┌┐┌┐│└┘┌┐└┐└┐└──┐│└┐│┌┐┌───┐││└┐┌┘└┐┌──┘┌┐│┌┐┌┐││││B┌┐┌──┘│B└┘└┘││┌───┐┌┘││┌┘┌┐┌───┐└─┐A│└┐AAAAAAAAA\n",
      "AAAAAAAAAAAAAA└┐│└┘┌┐└──┘└┘││└───┐┌┘┌┐┌┐┌┘││││└┐┌┘└─┘┌┘┌──┘│┌┘└┘└┘┌─┐│└┘┌┘│┌─┘└─┐┌┘│││││││││└┐││└───┘┌─┐┌┐└┘└──┐│└─┘└┘┌┘└┘A┌┐└──┘A└─┘┌┐AAAAAAA\n",
      "AAAAAAAAAAAAAAA└┘┌┐││┌┐┌──┐└┘A┌┐A││┌┘└┘└┘┌┘│││┌┘└───┐└┐└┐B┌┘└┐B┌┐B└┐└┘┌┐│┌┘└┐B┌┐││B└┘││││││└┐│││┌─┐B┌┘┌┘││┌┐┌─┐││┌─┐┌┐│┌┐┌┐│└───┐A┌──┘│AAAAAAA\n",
      "AAAAAAAAAAAAA┌───┘└┘│││└─┐│┌┐┌┘└─┘│└─┐B┌┐└┐└┘└┘┌┐┌──┘┌┘┌┘┌┘┌─┘┌┘│┌┐└──┘│└┘┌┐└┐│└┘└┐B┌┘└┘││└┐││││└┐└┐└┐└─┘└┘└┘┌┘││└┐│││└┘└┘└┘┌───┘┌┘┌──┘AAAAAAA\n",
      "AAAAAAAAAAAAA└─────┐│││┌─┘└┘└┘┌┐┌┐│┌─┘┌┘└─┘┌─┐┌┘└┘B┌┐└┐│┌┘┌┘┌┐└┐│││┌┐B┌┘┌─┘└─┘└──┐└┐└┐┌─┘└┐│││││B│┌┘┌┘┌─┐┌──┐└─┘│┌┘└┘└─┐┌───┘┌┐┌┐└┐└──┐AAAAAAA\n",
      "AAAAAAAAAAAAAAA┌───┘└┘└┘┌┐┌┐┌─┘└┘└┘└──┘┌─┐┌┘B└┘B┌─┐││B│││┌┘B│└─┘└┘└┘└┐└┐└───┐┌┐B┌┘┌┘┌┘└─┐┌┘││└┘│┌┘└─┘┌┘B└┘┌─┘┌─┐│└────┐└┘A┌┐A│└┘│┌┘┌──┘AAAAAAA\n",
      "AAAAAAAAAAAAAAA└──┐┌─┐┌┐│││││┌─────────┘B│└────┐└┐└┘│┌┘└┘│┌┐└───────┐└┐└┐┌──┘│└┐└┐└┐└┐┌─┘└┐│└─┐│└────┘┌─┐┌┘┌┐│┌┘└┐┌┐┌┐└───┘└─┘┌─┘│┌┘AAAAAAAAAA\n",
      "AAAAAAAAAAAAAAA┌──┘└┐└┘└┘└┘└┘└────────┐┌┐└─┐┌┐┌┘B└┐┌┘│┌──┘││┌─┐┌┐┌─┐│┌┘┌┘└┐┌─┘┌┘B│┌┘B││B┌┐││┌┐│└────┐B└┐│└┐││││┌┐└┘└┘└┐┌┐┌┐┌┐┌┘A┌┘└─┐AAAAAAAAA\n",
      "AAAAAAAAAAAAAAA└────┘┌┐┌┐┌┐┌┐┌┐┌┐┌────┘││┌┐└┘└┘B┌┐│└─┘└─┐┌┘│└┐│││└┐│││┌┘┌┐│└─┐└┐┌┘└┐┌┘└┐│││S│││┌─┐┌─┘┌─┘└┐└┘└┘└┘└───┐┌┘│││││└┘┌┐│┌──┘AAAAAAAAA\n",
      "AAAAAAAAAAAAAAAA┌──┐┌┘└┘└┘││└┘│││└─────┘└┘└┐┌┐┌┐│││┌─┐┌─┘└┐│┌┘││└─┘└┘││┌┘└┘┌─┘┌┘│┌─┘└─┐│││││││└┘┌┘└┐B└──┐└───┐┌─────┘└┐││││└──┘└┘└──┐AAAAAAAAA\n",
      "AAAAAAAAAAAAAAAA└─┐└┘┌─┐┌┐└┘┌┐└┘└─────┐┌┐┌┐└┘││└┘└┘└┐└┘B┌┐│││┌┘└┐┌┐┌┐└┘│┌─┐└─┐└┐│└┐B┌┐│└┘└┘││└─┐└┐┌┘┌─┐B└───┐│└──────┐││││└┐┌┐┌─┐┌┐┌┘AAAAAAAAA\n",
      "AAAAAAAAAAAAAAAAAA└┐┌┘A└┘│┌─┘└───────┐││└┘└──┘└┐┌───┘B┌─┘││││└┐B└┘└┘└─┐││┌┘┌─┘┌┘│┌┘┌┘│└┐┌─┐││┌┐└─┘│B└┐└─────┘└───────┘││││A└┘│└┐││└┘AAAAAAAAAA\n",
      "AAAAAAAAAAAAAAA┌───┘│┌───┘│┌─┐┌┐┌┐┌──┘└┘B┌┐B┌──┘└┐┌┐┌┐└─┐└┘└┘┌┘┌┐B┌┐┌┐│└┘└┐└─┐│┌┘│B└┐│┌┘└┐└┘└┘└┐┌─┘┌┐└─────┐┌┐┌────┐┌┐└┘└┘┌─┐│┌┘└┘AAAAAAAAAAAA\n",
      "AAAAAAAAAAAAAAA└────┘└─┐┌┐│└┐└┘└┘└┘┌──┐┌┐│└┐└───┐│││││┌┐└───┐└┐│└┐││││└┐┌┐│┌┐│││┌┘┌┐││└─┐└┐┌┐┌┐│└┐┌┘│┌┐┌───┘│││┌┐┌┐└┘└───┐│┌┘└┘AAAAAAAAAAAAAAA\n",
      "AAAAAAAAAAAA┌──────────┘│││A└────┐┌┘┌─┘│││┌┘B┌┐B││││││││┌┐┌┐└┐│└┐│││││B││└┘││││││B││││┌┐│┌┘││││└┐││┌┘││└───┐││││└┘└┐┌───┐└┘└┐AAAAAAAAAAAAAAAAA\n",
      "AAAAAAAAAAAA└┐┌┐┌─────┐┌┘└┘┌┐A┌──┘│┌┘┌┐│││└┐┌┘└┐│││││││└┘││└┐│└┐││││││┌┘│┌┐│││││└─┘││││││└┐││││┌┘└┘│┌┘│┌┐┌┐└┘└┘└┐┌┐└┘┌─┐│┌─┐└─┐AAAAAAAAAAAAAAA\n",
      "AAAAAAAAAAAAA└┘└┘┌┐┌──┘│┌──┘│┌┘┌─┐│└┐││││└┐│└─┐└┘│││││└┐┌┘│┌┘└┐││└┘││└┘┌┘││││││└─┐A││││└┘┌┘│││││┌──┘│┌┘│└┘└┐┌┐┌┐└┘└─┐│┌┘└┘A└┐┌┘AAAAAAAAAAAAAAA\n",
      "AAAAAAAAAAAAAAA┌─┘└┘┌┐┌┘└┐┌┐└┘┌┘┌┘│┌┘││││┌┘└┐┌┘┌─┘││││┌┘└┐│└─┐││└┐┌┘│┌─┘┌┘││└┘│┌┐└┐│││└─┐└┐│││└┘└─┐┌┘└┐└─┐┌┘││││┌──┐└┘└────┐│└──┐AAAAAAAAAAAAA\n",
      "AAAAAAAAAAAAAAA└┐┌┐┌┘└┘AA└┘└┐┌┘┌┘┌┘└┐│└┘│└┐┌┘│A└──┘│││└┐┌┘└┐┌┘│└┐│└┐│└┐┌┘┌┘│┌─┘│└─┘└┘└┐┌┘┌┘│││A┌──┘└┐A│┌┐│└┐│└┘└┘┌┐│┌┐┌─┐┌─┘│┌┐┌┘AAAAAAAAAAAAA\n",
      "AAAAAAAAAAAAAAAA└┘││AA┌┐┌┐┌┐└┘A└─┘┌─┘└─┐│┌┘└┐└───┐A││└┐││┌─┘│┌┘A│└┐└┘A││A└─┘│┌┐└──┐┌──┘└┐└─┘└┘┌┘┌─┐┌┘┌┘││└┐││A┌──┘│││││A└┘┌┐└┘│└┐AAAAAAAAAAAAA\n",
      "AAAAAAAAAAAAAAAAA┌┘│┌─┘││└┘└──────┘┌─┐┌┘│└─┐└┐┌┐┌┘┌┘│┌┘││└┐┌┘└─┐│┌┘┌──┘└──┐┌┘│└┐┌─┘└┐┌─┐└─┐A┌─┘┌┘┌┘└┐└┐│└┐││└─┘┌┐┌┘│││└───┘└┐┌┘┌┘AAAAAAAAAAAAA\n",
      "AAAAAAAAAAAAAAAAA└─┘└─┐│└─┐┌┐┌─┐┌─┐└┐││┌┘┌┐└┐││││A└┐│└┐││┌┘└┐┌┐││└┐└─┐┌┐┌┐││┌┘┌┘└┐┌─┘│┌┘┌┐└┐└─┐└┐└┐┌┘A││┌┘││┌─┐│└┘A││└┐┌───┐│└─┘AAAAAAAAAAAAAA\n",
      "AAAAAAAAAAAAAAAAAAAA┌┐││┌┐└┘└┘┌┘└┐└┐│└┘└┐│└┐│└┘└┘┌┐│└┐││└┘┌─┘│└┘└─┘┌┐││└┘└┘││A└┐┌┘│┌┐││┌┘└┐└─┐│┌┘┌┘└─┐││└┐│││A│└──┐││┌┘└──┐││AAAAAAAAAAAAAAAAA\n",
      "AAAAAAAAAAAAAAAAAAAA│└┘└┘└────┘┌┐│┌┘└┐┌─┘│┌┘└┐A┌─┘└┘┌┘└┘┌─┘┌┐└─┐A┌─┘└┘└┐┌──┘└┐┌┘│┌┘││││└┐┌┘┌┐││└┐└┐┌─┘└┘┌┘││└┐└───┘└┘└─┐┌─┘└┘AAAAAAAAAAAAAAAAA\n",
      "AAAAAAAAAAAAAAAAAAAA└─┐┌──────┐│└┘│┌┐││┌┐││┌─┘┌┘┌┐┌┐└──┐└─┐││┌┐└┐└───┐┌┘│┌─┐┌┘└┐││┌┘│││┌┘└┐││││┌┘┌┘└┐┌─┐└┐│└┐└────────┐│└┐┌┐AAAAAAAAAAAAAAAAAA\n",
      "AAAAAAAAAAAAAAAAAAA┌──┘│┌─────┘│A┌┘│└┘│││││└─┐└─┘│││┌┐┌┘┌─┘│└┘│┌┘┌───┘│┌┘└┐│└─┐└┘││┌┘│└┘AA││└┘││┌┘┌─┘└┐└─┘│┌┘┌┐┌┐┌┐┌─┐│└┐└┘└─┐AAAAAAAAAAAAAAAA\n",
      "AAAAAAAAAAAAAAAAAAA│┌─┐│└─┐┌┐┌┐└┐└┐└┐┌┘││││┌┐│┌──┘│││└┘A└─┐│A┌┘│A└┐┌─┐│└─┐││┌─┘A┌┘│└┐└┐┌┐┌┘└┐A└┘└┐│┌──┘┌─┐│└┐│└┘└┘└┘A└┘┌┘┌─┐┌┘AAAAAAAAAAAAAAAA\n",
      "AAAAAAAAAAAAAAAAAAA└┘A└┘┌┐└┘└┘│┌┘┌┘┌┘└┐│└┘││││└─┐┌┘│└┐┌───┘└┐└┐└─┐││┌┘└┐A│││└──┐└┐└┐└┐└┘││┌┐└───┐││└┐┌┐│A└┘A│└─┐┌┐┌┐A┌┐└─┘A││AAAAAAAAAAAAAAAAA\n",
      "AAAAAAAAAAAAAAAAAAAAA┌──┘└────┘│┌┘┌┘AA││┌─┘│││┌─┘└┐└┐││┌─┐┌─┘┌┘┌┐││││┌┐└┐└┘└┐┌┐└┐└┐└┐└┐┌┘│││┌┐┌┐│││┌┘│││┌───┘┌┐└┘└┘└─┘└─┐AA│└┐AAAAAAAAAAAAAAAA\n",
      "AAAAAAAAAAAAAAAAAAAAA└─────┐┌┐┌┘└┐└──┐└┘└┐┌┘└┘└┐┌┐│┌┘│││┌┘└┐A│┌┘└┘└┘└┘└─┘┌──┘│└┐└┐└┐│A│└┐││││││││││└┐│└┘└┐┌┐┌┘│┌┐┌─┐┌┐┌┐└┐A└─┘AAAAAAAAAAAAAAAA\n",
      "AAAAAAAAAAAAAAAAAAAAA┌─────┘││└─┐│┌┐┌┘┌──┘│┌───┘││││┌┘└┘└┐┌┘┌┘│┌┐┌─┐┌─┐┌┐└┐┌─┘A│┌┘┌┘│┌┘┌┘││││││└┘││A└┘┌──┘│││┌┘││└┐└┘└┘└┐└┐AAAAAAAAAAAAAAAAAAA\n",
      "AAAAAAAAAAAAAAAAAAAAA│┌┐┌─┐┌┘│┌─┘└┘││A└──┐││┌┐┌┐││││└┐┌┐A││A└┐└┘└┘┌┘└┐└┘└─┘└──┐└┘A└─┘└┐│A└┘└┘│└─┐││┌──┘┌─┐│└┘│┌┘└┐└──┐AA└┐└─┐AAAAAAAAAAAAAAAAA\n",
      "AAAAAAAAAAAAAAAAAAAAA└┘└┘┌┘└┐│└─┐AA└┘┌┐┌┐││└┘└┘│││││┌┘│└─┘└─┐└─┐┌┐└┐A└┐┌──┐┌─┐└───┐┌──┘└┐┌┐A┌┘┌┐│└┘└──┐└┐│└┐┌┘│┌┐│┌─┐└┐┌─┘┌─┘AAAAAAAAAAAAAAAAA\n",
      "AAAAAAAAAAAAAAAAAAAAA┌───┘┌─┘└┐┌┘AAAA│└┘└┘└┐┌──┘│└┘││A│┌─┐┌┐│┌─┘││┌┘┌─┘│┌─┘└┐│┌┐┌─┘│┌──┐└┘└┐│┌┘└┘┌────┘┌┘│┌┘└─┘│└┘│A└─┘└─┐│AAAAAAAAAAAAAAAAAAA\n",
      "AAAAAAAAAAAAAAAAAAAAA└───┐└┐AA││AAAAA└─┐┌┐┌┘└─┐┌┘┌─┘│┌┘│A└┘└┘└─┐││└┐└┐┌┘└─┐┌┘│││└┐A└┘┌─┘┌─┐│└┘┌─┐│┌┐┌─┐│A└┘┌┐┌┐│┌┐└───┐┌─┘└┐AAAAAAAAAAAAAAAAAA\n",
      "AAAAAAAAAAAAAAAAAAAAAAAAA│┌┘AA└┘AAAAAAA└┘│└─┐┌┘│A└┐┌┘└┐│┌──────┘│└─┘┌┘└┐┌─┘│┌┘│└─┘┌─┐└─┐│A│└──┘┌┘││└┘┌┘└───┘└┘│││└┐┌┐┌┘│┌──┘AAAAAAAAAAAAAAAAAA\n",
      "AAAAAAAAAAAAAAAAAAAAAAAAA│└┐┌─┐AAAAAAAA┌─┘┌─┘└┐└─┐│└┐A└┘└┐┌─┐┌─┐└──┐└──┘└┐┌┘└┐│┌┐A└┐└──┘└┐│┌┐┌┐└┐│└┐┌┘┌──┐┌┐┌─┘││┌┘││└┐│└─┐AAAAAAAAAAAAAAAAAAA\n",
      "AAAAAAAAAAAAAAAAAAAAAAAAA└┐└┘┌┘AAAAAAA┌┘┌┐│AAA└─┐││┌┘A┌──┘│A│└┐└┐┌─┘┌────┘└─┐│└┘│┌─┘┌┐┌┐┌┘└┘││└─┘└─┘└┐│┌─┘││└┐┌┘│└┐│└─┘│┌─┘AAAAAAAAAAAAAAAAAAA\n",
      "AAAAAAAAAAAAAAAAAAAAAAAAAA└──┘AAAAAAAA│┌┘└┘AAAAA└┘└┘AA└──┐│┌┘┌┘┌┘└─┐└──┐┌┐┌┐││┌┐│└┐┌┘││││A┌─┘└─────┐┌┘│└─┐│└─┘└─┘┌┘└──┐└┘AAAAAAAAAAAAAAAAAAAAA\n",
      "AAAAAAAAAAAAAAAAAAAAAAAAAAAAAAAAAAAAAA└┘AAAAAAAAAAAAAAAAA└┘│┌┘┌┘┌─┐│┌──┘│││││└┘└┘┌┘└┐└┘│└┐└─┐┌┐┌─┐┌┘└┐│A┌┘└┐┌┐AAA└─┐┌─┘AAAAAAAAAAAAAAAAAAAAAAA\n",
      "AAAAAAAAAAAAAAAAAAAAAAAAAAAAAAAAAAAAAAAAAAAAAAAAAAAAAAAAAA┌┘└┐└┐│A└┘└─┐┌┘│││└──┐A│┌─┘A┌┘┌┘┌─┘│││A└┘AA└┘A└─┐└┘│AAAAA└┘AAAAAAAAAAAAAAAAAAAAAAAAA\n",
      "AAAAAAAAAAAAAAAAAAAAAAAAAAAAAAAAAAAAAAAAAAAAAAAAAAAAAAAA┌─┘┌┐│┌┘└─┐┌┐A│└┐││└┐┌─┘A││A┌─┘┌┘┌┘┌┐││└───┐AAAAA┌┘┌┐└┐AAAAAAAAAAAAAAAAAAAAAAAAAAAAAAA\n",
      "AAAAAAAAAAAAAAAAAAAAAAAAAAAAAAAAAAAAAAAAAAAAAAAAAAAAAAAA└──┘│││┌┐┌┘│└─┘┌┘││A└┘AAA││A└┐┌┘A└┐│└┘└─┐┌─┘AAAAA└┐││┌┘AAAAAAAAAAAAAAAAAAAAAAAAAAAAAAA\n",
      "AAAAAAAAAAAAAAAAAAAAAAAAAAAAAAAAAAAAAAAAAAAAAAAAAAAAAAAAAAAA└┘│││└┐└──┐│A│└─┐AAAA└┘AA└┘AAA│└┐AAA└┘AAAAAAA┌┘│││AAAAAAAAAAAAAAAAAAAAAAAAAAAAAAAA\n",
      "AAAAAAAAAAAAAAAAAAAAAAAAAAAAAAAAAAAAAAAAAAAAAAAAAAAAAAAAAAAAAA└┘│┌┘┌──┘└┐│┌─┘AAAAAAAAAAAAA└─┘AAAAAAAAAAAA└─┘└┘AAAAAAAAAAAAAAAAAAAAAAAAAAAAAAAA\n",
      "AAAAAAAAAAAAAAAAAAAAAAAAAAAAAAAAAAAAAAAAAAAAAAAAAAAAAAAAAAAAAAAA└┘A└─┐┌┐││└─┐AAAAAAAAAAAAAAAAAAAAAAAAAAAAAAAAAAAAAAAAAAAAAAAAAAAAAAAAAAAAAAAAA\n",
      "AAAAAAAAAAAAAAAAAAAAAAAAAAAAAAAAAAAAAAAAAAAAAAAAAAAAAAAAAAAAAAAAAA┌──┘│└┘│┌─┘AAAAAAAAAAAAAAAAAAAAAAAAAAAAAAAAAAAAAAAAAAAAAAAAAAAAAAAAAAAAAAAAA\n",
      "AAAAAAAAAAAAAAAAAAAAAAAAAAAAAAAAAAAAAAAAAAAAAAAAAAAAAAAAAAAAAAAAAA└──┐└─┐│└┐AAAAAAAAAAAAAAAAAAAAAAAAAAAAAAAAAAAAAAAAAAAAAAAAAAAAAAAAAAAAAAAAAA\n",
      "AAAAAAAAAAAAAAAAAAAAAAAAAAAAAAAAAAAAAAAAAAAAAAAAAAAAAAAAAAAAAAAAAAA┌─┘┌─┘│┌┘AAAAAAAAAAAAAAAAAAAAAAAAAAAAAAAAAAAAAAAAAAAAAAAAAAAAAAAAAAAAAAAAAA\n",
      "AAAAAAAAAAAAAAAAAAAAAAAAAAAAAAAAAAAAAAAAAAAAAAAAAAAAAAAAAAAAAAAAAAA└──┘AA└┘AAAAAAAAAAAAAAAAAAAAAAAAAAAAAAAAAAAAAAAAAAAAAAAAAAAAAAAAAAAAAAAAAAA\n",
      "AAAAAAAAAAAAAAAAAAAAAAAAAAAAAAAAAAAAAAAAAAAAAAAAAAAAAAAAAAAAAAAAAAAAAAAAAAAAAAAAAAAAAAAAAAAAAAAAAAAAAAAAAAAAAAAAAAAAAAAAAAAAAAAAAAAAAAAAAAAAAA\n"
     ]
    }
   ],
   "source": [
    "part2(\"inputs/day10.txt\")"
   ]
  }
 ],
 "metadata": {
  "kernelspec": {
   "display_name": "gpt",
   "language": "python",
   "name": "python3"
  },
  "language_info": {
   "codemirror_mode": {
    "name": "ipython",
    "version": 3
   },
   "file_extension": ".py",
   "mimetype": "text/x-python",
   "name": "python",
   "nbconvert_exporter": "python",
   "pygments_lexer": "ipython3",
   "version": "3.11.5"
  }
 },
 "nbformat": 4,
 "nbformat_minor": 2
}
