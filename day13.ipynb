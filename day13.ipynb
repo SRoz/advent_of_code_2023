{
 "cells": [
  {
   "cell_type": "markdown",
   "metadata": {},
   "source": [
    "# Part 1"
   ]
  },
  {
   "cell_type": "code",
   "execution_count": 1,
   "metadata": {},
   "outputs": [],
   "source": [
    "test_input = \"\"\"#.##..##.\n",
    "..#.##.#.\n",
    "##......#\n",
    "##......#\n",
    "..#.##.#.\n",
    "..##..##.\n",
    "#.#.##.#.\n",
    "\n",
    "#...##..#\n",
    "#....#..#\n",
    "..##..###\n",
    "#####.##.\n",
    "#####.##.\n",
    "..##..###\n",
    "#....#..#\"\"\""
   ]
  },
  {
   "cell_type": "code",
   "execution_count": 2,
   "metadata": {},
   "outputs": [],
   "source": [
    "with open(\"inputs/day13.txt\", \"r\") as fn:\n",
    "    input = fn.read()"
   ]
  },
  {
   "cell_type": "code",
   "execution_count": 3,
   "metadata": {},
   "outputs": [],
   "source": [
    "import numpy as np"
   ]
  },
  {
   "cell_type": "code",
   "execution_count": 4,
   "metadata": {},
   "outputs": [],
   "source": [
    "def test_axis(grid):\n",
    "    for i in range(1, len(grid)):    \n",
    "        g1 = np.flip(grid[:i], axis=0)\n",
    "        g2 = grid[i:]\n",
    "        if np.array_equal(g1[:min(len(g1),len(g2))],g2[:min(len(g1),len(g2))]):\n",
    "            break\n",
    "    else:\n",
    "        i = 0 \n",
    "    \n",
    "    return i \n",
    "    \n",
    "\n",
    "def part1(input):\n",
    "    grids = [np.array([np.array(list(i)) for i in input.splitlines()]) for input in input.split(\"\\n\\n\")]\n",
    "    total = 0\n",
    "    for grid in grids:\n",
    "        total += test_axis(grid.T) + 100*test_axis(grid)\n",
    "\n",
    "    print(total)"
   ]
  },
  {
   "cell_type": "code",
   "execution_count": 5,
   "metadata": {},
   "outputs": [
    {
     "name": "stdout",
     "output_type": "stream",
     "text": [
      "405\n",
      "29165\n"
     ]
    }
   ],
   "source": [
    "part1(test_input)\n",
    "part1(input)"
   ]
  },
  {
   "cell_type": "markdown",
   "metadata": {},
   "source": [
    "# Part 2"
   ]
  },
  {
   "cell_type": "code",
   "execution_count": 6,
   "metadata": {},
   "outputs": [],
   "source": [
    "def test_axis(grid):\n",
    "    for i in range(1, len(grid)):    \n",
    "        g1 = np.flip(grid[:i], axis=0)\n",
    "        g2 = grid[i:]\n",
    "        if np.sum(g1[:min(len(g1),len(g2))] != g2[:min(len(g1),len(g2))]) == 1:\n",
    "            break\n",
    "    else:\n",
    "        i = 0 \n",
    "    \n",
    "    return i \n",
    "    \n",
    "\n",
    "def part2(input):\n",
    "    grids = [np.array([np.array(list(i)) for i in input.splitlines()]) for input in input.split(\"\\n\\n\")]\n",
    "    total = 0\n",
    "    for grid in grids:\n",
    "        total += test_axis(grid.T) + 100*test_axis(grid)\n",
    "\n",
    "    print(total)"
   ]
  },
  {
   "cell_type": "code",
   "execution_count": 7,
   "metadata": {},
   "outputs": [
    {
     "name": "stdout",
     "output_type": "stream",
     "text": [
      "400\n",
      "32192\n"
     ]
    }
   ],
   "source": [
    "part1(test_input)\n",
    "part1(input)"
   ]
  }
 ],
 "metadata": {
  "kernelspec": {
   "display_name": "base",
   "language": "python",
   "name": "python3"
  },
  "language_info": {
   "codemirror_mode": {
    "name": "ipython",
    "version": 3
   },
   "file_extension": ".py",
   "mimetype": "text/x-python",
   "name": "python",
   "nbconvert_exporter": "python",
   "pygments_lexer": "ipython3",
   "version": "3.11.5"
  }
 },
 "nbformat": 4,
 "nbformat_minor": 2
}
