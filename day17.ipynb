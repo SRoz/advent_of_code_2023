{
 "cells": [
  {
   "cell_type": "markdown",
   "metadata": {},
   "source": [
    "## NetworkX"
   ]
  },
  {
   "cell_type": "code",
   "execution_count": 1,
   "metadata": {},
   "outputs": [],
   "source": [
    "import numpy as np\n",
    "import networkx as nx\n",
    "\n",
    "with open(\"inputs/day17.txt\", 'r') as fn:\n",
    "    input = fn.read()"
   ]
  },
  {
   "cell_type": "markdown",
   "metadata": {},
   "source": [
    "\n",
    "2D grid + dimension for prev dir, dimension for n steps\n",
    "```\n",
    "   y x p n\n",
    "- (0,0,S,0) -> all directions with 1 step\n",
    "            -> (0,1,R,1)\n",
    "            -> (1,0,D,1)\n",
    "- (0,1,R,1) -> directions U,D with 1 step, direction R with 2\n",
    "            -> (0,2,R,2)\n",
    "            -> (1,1,2,1)\n",
    "- (0,2,R,2) -> directions U,D with 1 step, direction R with 3\n",
    "            -> (0,3,R,3)\n",
    "            -> (1,3,D,3)\n",
    "- (0,3,R,3) -> directions U,D with 1 step\n",
    "```"
   ]
  },
  {
   "cell_type": "code",
   "execution_count": 2,
   "metadata": {},
   "outputs": [],
   "source": [
    "grid = np.genfromtxt(\"inputs/day17.txt\", delimiter=1, dtype=int, comments=None)"
   ]
  },
  {
   "cell_type": "code",
   "execution_count": 3,
   "metadata": {},
   "outputs": [],
   "source": [
    "def solve(grid, straight_range, turn_range):\n",
    "    _G = nx.grid_2d_graph(*grid.shape).to_directed()\n",
    "    G = nx.MultiDiGraph()\n",
    "\n",
    "    directions = [(0,1), (0,-1), (1,0), (-1,0)]\n",
    "    def change_dir(diff):\n",
    "        opposite = (-diff[0], -diff[1])\n",
    "        return [d for d in directions if d not in [diff, opposite]]\n",
    "\n",
    "    for e in _G.edges():\n",
    "        diff = (e[1][0]-e[0][0], e[1][1]-e[0][1])\n",
    "\n",
    "        # Keep going, next lvl down\n",
    "        for lvl in straight_range:    \n",
    "            G.add_edge((e[0], diff, lvl), (e[1], diff, lvl+1), weight=grid[*e[1]])\n",
    "\n",
    "        for lvl in turn_range:\n",
    "            # Turn left or right, up to lvl 1\n",
    "            for dir in change_dir(diff):\n",
    "                G.add_edge((e[0], dir, lvl), (e[1], diff, 0), weight=grid[*e[1]])\n",
    "\n",
    "    for dir in directions:\n",
    "        G.add_edge('start', ((0,0), dir, 0), weight=0)\n",
    "        for lvl in turn_range:\n",
    "            G.add_edge(((grid.shape[0]-1, grid.shape[1]-1), dir, lvl), 'end', weight=0)\n",
    "\n",
    "    print(nx.shortest_path_length(G, 'start', 'end', weight='weight'))"
   ]
  },
  {
   "cell_type": "markdown",
   "metadata": {},
   "source": [
    "Part 1"
   ]
  },
  {
   "cell_type": "code",
   "execution_count": 4,
   "metadata": {},
   "outputs": [
    {
     "name": "stdout",
     "output_type": "stream",
     "text": [
      "785\n"
     ]
    }
   ],
   "source": [
    "solve(grid, range(3), range(3))"
   ]
  },
  {
   "cell_type": "markdown",
   "metadata": {},
   "source": [
    "Part 2"
   ]
  },
  {
   "cell_type": "code",
   "execution_count": 5,
   "metadata": {},
   "outputs": [
    {
     "name": "stdout",
     "output_type": "stream",
     "text": [
      "922\n"
     ]
    }
   ],
   "source": [
    "solve(grid, range(10), range(3,10))"
   ]
  }
 ],
 "metadata": {
  "kernelspec": {
   "display_name": "base",
   "language": "python",
   "name": "python3"
  },
  "language_info": {
   "codemirror_mode": {
    "name": "ipython",
    "version": 3
   },
   "file_extension": ".py",
   "mimetype": "text/x-python",
   "name": "python",
   "nbconvert_exporter": "python",
   "pygments_lexer": "ipython3",
   "version": "3.11.5"
  }
 },
 "nbformat": 4,
 "nbformat_minor": 2
}
