{
 "cells": [
  {
   "cell_type": "markdown",
   "metadata": {},
   "source": [
    "# Part 1"
   ]
  },
  {
   "cell_type": "code",
   "execution_count": 1,
   "metadata": {},
   "outputs": [],
   "source": [
    "with open(\"inputs/day9.txt\", 'r') as fn:\n",
    "    input = fn.read()"
   ]
  },
  {
   "cell_type": "code",
   "execution_count": 2,
   "metadata": {},
   "outputs": [],
   "source": [
    "import pandas as pd"
   ]
  },
  {
   "cell_type": "code",
   "execution_count": 3,
   "metadata": {},
   "outputs": [],
   "source": [
    "def part1(input):\n",
    "    lines = [pd.Series(map(int, l.split(\" \"))) for l in input.splitlines()]\n",
    "    forecasts = list()\n",
    "    for series in lines:\n",
    "        diffs = [series]\n",
    "        while diffs[-1].nunique() > 1:\n",
    "            diffs.append(diffs[-1].diff())\n",
    "        forecasts.append(pd.concat(diffs,axis=1).iloc[-1].sum())\n",
    "    print(int(sum(forecasts)))"
   ]
  },
  {
   "cell_type": "code",
   "execution_count": 4,
   "metadata": {},
   "outputs": [
    {
     "name": "stdout",
     "output_type": "stream",
     "text": [
      "1992273652\n"
     ]
    }
   ],
   "source": [
    "part1(input)"
   ]
  },
  {
   "cell_type": "markdown",
   "metadata": {},
   "source": [
    "# Part 2"
   ]
  },
  {
   "cell_type": "code",
   "execution_count": 12,
   "metadata": {},
   "outputs": [],
   "source": [
    "def part2(input):\n",
    "    lines = [pd.Series(map(int, l.split(\" \"))) for l in input.splitlines()]\n",
    "    forecasts = list()\n",
    "    for series in lines:\n",
    "        diffs = [series[::-1]]\n",
    "        while diffs[-1].nunique() > 1:\n",
    "            diffs.append(diffs[-1].diff())\n",
    "        s = pd.concat(diffs,axis=1).iloc[-1]\n",
    "        forecasts.append(s.sum())\n",
    "    print(int(sum(forecasts)))"
   ]
  },
  {
   "cell_type": "code",
   "execution_count": 14,
   "metadata": {},
   "outputs": [
    {
     "name": "stdout",
     "output_type": "stream",
     "text": [
      "1012\n"
     ]
    }
   ],
   "source": [
    "part2(input)"
   ]
  }
 ],
 "metadata": {
  "kernelspec": {
   "display_name": "gpt",
   "language": "python",
   "name": "python3"
  },
  "language_info": {
   "codemirror_mode": {
    "name": "ipython",
    "version": 3
   },
   "file_extension": ".py",
   "mimetype": "text/x-python",
   "name": "python",
   "nbconvert_exporter": "python",
   "pygments_lexer": "ipython3",
   "version": "3.11.5"
  }
 },
 "nbformat": 4,
 "nbformat_minor": 2
}
