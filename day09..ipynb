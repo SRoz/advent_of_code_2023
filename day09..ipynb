{
 "cells": [
  {
   "cell_type": "markdown",
   "metadata": {},
   "source": [
    "# Part 1"
   ]
  },
  {
   "cell_type": "code",
   "execution_count": 1,
   "metadata": {},
   "outputs": [],
   "source": [
    "with open(\"inputs/day9.txt\", 'r') as fn:\n",
    "    input = fn.read()"
   ]
  },
  {
   "cell_type": "code",
   "execution_count": 2,
   "metadata": {},
   "outputs": [],
   "source": [
    "import pandas as pd"
   ]
  },
  {
   "cell_type": "code",
   "execution_count": 3,
   "metadata": {},
   "outputs": [],
   "source": [
    "def part1(input):\n",
    "    lines = [pd.Series(map(int, l.split(\" \"))) for l in input.splitlines()]\n",
    "    forecasts = list()\n",
    "    for series in lines:\n",
    "        diffs = [series]\n",
    "        while diffs[-1].nunique() > 1:\n",
    "            diffs.append(diffs[-1].diff())\n",
    "        forecasts.append(pd.concat(diffs,axis=1).iloc[-1].sum())\n",
    "    print(int(sum(forecasts)))"
   ]
  },
  {
   "cell_type": "code",
   "execution_count": 4,
   "metadata": {},
   "outputs": [
    {
     "name": "stdout",
     "output_type": "stream",
     "text": [
      "1992273652\n"
     ]
    }
   ],
   "source": [
    "part1(input)"
   ]
  },
  {
   "cell_type": "markdown",
   "metadata": {},
   "source": [
    "# Part 2"
   ]
  },
  {
   "cell_type": "code",
   "execution_count": 5,
   "metadata": {},
   "outputs": [],
   "source": [
    "def part2(input):\n",
    "    lines = [pd.Series(map(int, l.split(\" \"))) for l in input.splitlines()]\n",
    "    forecasts = list()\n",
    "    for series in lines:\n",
    "        diffs = [series[::-1]]\n",
    "        while diffs[-1].nunique() > 1:\n",
    "            diffs.append(diffs[-1].diff())\n",
    "        s = pd.concat(diffs,axis=1).iloc[-1]\n",
    "        forecasts.append(s.sum())\n",
    "    print(int(sum(forecasts)))"
   ]
  },
  {
   "cell_type": "code",
   "execution_count": 6,
   "metadata": {},
   "outputs": [
    {
     "name": "stdout",
     "output_type": "stream",
     "text": [
      "1012\n"
     ]
    }
   ],
   "source": [
    "part2(input)"
   ]
  },
  {
   "cell_type": "markdown",
   "metadata": {},
   "source": [
    "# SKTime"
   ]
  },
  {
   "cell_type": "code",
   "execution_count": 7,
   "metadata": {},
   "outputs": [],
   "source": [
    "from sktime.forecasting.compose import TransformedTargetForecaster\n",
    "from sktime.forecasting.naive import NaiveForecaster\n",
    "from sktime.transformations.series.difference import Differencer\n",
    "\n",
    "\n",
    "def sktime_sol(series, diff_order):\n",
    "    pipe = TransformedTargetForecaster(steps=[\n",
    "        (\"differencer\", Differencer(lags=[1]*diff_order)),\n",
    "        (\"forecaster\", NaiveForecaster(strategy=\"last\")),\n",
    "    ])\n",
    "    return pipe.fit_predict(series, fh=[1])"
   ]
  },
  {
   "cell_type": "code",
   "execution_count": 8,
   "metadata": {},
   "outputs": [],
   "source": [
    "def sktime(input):\n",
    "    lines = [pd.Series(map(int, l.split(\" \"))) for l in input.splitlines()]\n",
    "    next_forecasts = list()\n",
    "    prev_forecasts = list()\n",
    "    \n",
    "    for series in lines:\n",
    "        diffs = [series]\n",
    "        while diffs[-1].nunique() > 1:\n",
    "            diffs.append(diffs[-1].diff())\n",
    "        \n",
    "        forecast_fwd = sktime_sol(series, len(diffs))\n",
    "        forecast_back = sktime_sol(series[::-1].reset_index(drop=True), len(diffs))\n",
    "\n",
    "        next_forecasts.append(forecast_fwd)\n",
    "        prev_forecasts.append(forecast_back)\n",
    "    \n",
    "    print(\"Part 1: \", int(sum(next_forecasts).tolist()[0]))\n",
    "    print(\"Part 2: \", int(sum(prev_forecasts).tolist()[0]))\n"
   ]
  },
  {
   "cell_type": "code",
   "execution_count": 9,
   "metadata": {},
   "outputs": [
    {
     "name": "stdout",
     "output_type": "stream",
     "text": [
      "Part 1:  1992273652\n",
      "Part 2:  1012\n"
     ]
    }
   ],
   "source": [
    "sktime(input)"
   ]
  }
 ],
 "metadata": {
  "kernelspec": {
   "display_name": "gpt",
   "language": "python",
   "name": "python3"
  },
  "language_info": {
   "codemirror_mode": {
    "name": "ipython",
    "version": 3
   },
   "file_extension": ".py",
   "mimetype": "text/x-python",
   "name": "python",
   "nbconvert_exporter": "python",
   "pygments_lexer": "ipython3",
   "version": "3.11.5"
  }
 },
 "nbformat": 4,
 "nbformat_minor": 2
}
