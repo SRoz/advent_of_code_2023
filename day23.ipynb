{
 "cells": [
  {
   "cell_type": "code",
   "execution_count": 2,
   "metadata": {},
   "outputs": [],
   "source": [
    "with open(\"inputs/day23.txt\", \"r\") as fn:\n",
    "    input = fn.read()\n",
    "\n",
    "lines = input.splitlines() "
   ]
  },
  {
   "cell_type": "markdown",
   "metadata": {},
   "source": [
    "# Part 1"
   ]
  },
  {
   "cell_type": "code",
   "execution_count": 3,
   "metadata": {},
   "outputs": [],
   "source": [
    "dirs = ((0,1),(1,0),(-1,0),(0,-1))\n",
    "\n",
    "slope_map = {\n",
    "    (0,1): \">\",\n",
    "    (1,0): \"v\",\n",
    "    (-1,0): \"^\",\n",
    "    (0,-1): \"<\"\n",
    "}\n",
    "\n",
    "solutions = list()\n",
    "def solve(path):\n",
    "    global global_solutions\n",
    "    if path[-1]==exit:\n",
    "        solutions.append(path)    \n",
    "    \n",
    "    for dir in dirs:\n",
    "        step = (path[-1][0] + dir[0], path[-1][1] + dir[1])\n",
    "\n",
    "        in_bounds = (0 < step[0] < len(lines)) and (0 < step[1] < len(lines[0]))\n",
    "        is_path = lines[step[0]][step[1]] in (\".\", slope_map[dir]) if in_bounds else False\n",
    "        not_visited = step not in path\n",
    "        if all((in_bounds, is_path, not_visited)):\n",
    "            solve(path + [step])\n",
    "\n"
   ]
  },
  {
   "cell_type": "code",
   "execution_count": 4,
   "metadata": {},
   "outputs": [
    {
     "data": {
      "text/plain": [
       "2018"
      ]
     },
     "execution_count": 4,
     "metadata": {},
     "output_type": "execute_result"
    }
   ],
   "source": [
    "entrance = (0,1)\n",
    "exit = (len(lines)-1, len(lines[0])-2)\n",
    "solutions = list()\n",
    "\n",
    "solve([entrance])\n",
    "\n",
    "max([len(s) for s in solutions]) -1"
   ]
  },
  {
   "cell_type": "markdown",
   "metadata": {},
   "source": [
    "# Part 2 - Networkx"
   ]
  },
  {
   "cell_type": "code",
   "execution_count": 5,
   "metadata": {},
   "outputs": [],
   "source": [
    "import numpy as np\n",
    "import networkx as nx\n",
    "\n",
    "grid = np.genfromtxt(\"inputs/day23.txt\", delimiter=1, dtype=str, comments=None)"
   ]
  },
  {
   "cell_type": "code",
   "execution_count": 6,
   "metadata": {},
   "outputs": [],
   "source": [
    "G = nx.Graph()\n",
    "\n",
    "for i, x in np.ndenumerate(grid):\n",
    "    if x != \"#\":\n",
    "        G.add_node(i)\n",
    "\n",
    "        for dir in ((0,1),(1,0),(-1,0),(0,-1)):\n",
    "            step = (i[0] + dir[0], i[1] + dir[1]) \n",
    "            \n",
    "            in_bounds = (0 < step[0] < grid.shape[0]) and (0 < step[1] < grid.shape[1])\n",
    "            is_path = grid[*step] in (\".\", \"<\", \">\", \"^\", \"v\") if in_bounds else False\n",
    "            if in_bounds and is_path:\n",
    "                G.add_edge(i, step, weight=1)\n",
    "\n",
    "\n",
    "# Simplfy graph\n",
    "while True:\n",
    "    changed = False\n",
    "    for node in G.nodes:\n",
    "        n = list(nx.neighbors(G, node))\n",
    "        if len(n) ==2:\n",
    "            G.add_edge(*n, weight=sum([e[2]['weight'] for e in list(G.edges(node, data=True))]))\n",
    "            G.remove_node(node)\n",
    "            changed = True\n",
    "            break\n",
    "    if not changed:\n",
    "        break"
   ]
  },
  {
   "cell_type": "code",
   "execution_count": 7,
   "metadata": {},
   "outputs": [
    {
     "data": {
      "text/plain": [
       "6406"
      ]
     },
     "execution_count": 7,
     "metadata": {},
     "output_type": "execute_result"
    }
   ],
   "source": [
    "entrance = (0,1)\n",
    "exit = (grid.shape[0]-1, grid.shape[1]-2)\n",
    "\n",
    "_max = 0 \n",
    "for p in nx.all_simple_paths(G, entrance, exit):\n",
    "    _max = max(_max, nx.path_weight(G, p, weight='weight'))\n",
    "_max"
   ]
  }
 ],
 "metadata": {
  "kernelspec": {
   "display_name": "gpt",
   "language": "python",
   "name": "python3"
  },
  "language_info": {
   "codemirror_mode": {
    "name": "ipython",
    "version": 3
   },
   "file_extension": ".py",
   "mimetype": "text/x-python",
   "name": "python",
   "nbconvert_exporter": "python",
   "pygments_lexer": "ipython3",
   "version": "3.11.5"
  }
 },
 "nbformat": 4,
 "nbformat_minor": 2
}
