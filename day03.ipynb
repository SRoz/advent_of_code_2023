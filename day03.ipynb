{
 "cells": [
  {
   "cell_type": "markdown",
   "metadata": {},
   "source": [
    "# Part 1"
   ]
  },
  {
   "cell_type": "code",
   "execution_count": 1,
   "metadata": {},
   "outputs": [],
   "source": [
    "from dataclasses import dataclass, field\n",
    "\n",
    "@dataclass\n",
    "class Number:\n",
    "    row: int\n",
    "    col_indexes: list[int] = field(default_factory=list)\n",
    "    digits: list[str] = field(default_factory=list)\n",
    "    \n",
    "    @property\n",
    "    def number(self):\n",
    "        return int(\"\".join(self.digits) if len(self.digits)>0 else 0)"
   ]
  },
  {
   "cell_type": "code",
   "execution_count": 2,
   "metadata": {},
   "outputs": [],
   "source": [
    "NUMBERS = [str(i) for i in range(10)]\n",
    "\n",
    "def get_number_list(grid):\n",
    "    number_list = list()\n",
    "    for row, line in enumerate(grid):\n",
    "        n = Number(row)\n",
    "        for i, l in enumerate(line):\n",
    "            if l in NUMBERS:\n",
    "                n.digits.append(l)\n",
    "                n.col_indexes.append(i)\n",
    "            else:\n",
    "                if n.number != 0:\n",
    "                    number_list.append(n)\n",
    "                    n = Number(row)\n",
    "        else:\n",
    "            if n.number != 0:\n",
    "                number_list.append(n)\n",
    "    return number_list"
   ]
  },
  {
   "cell_type": "code",
   "execution_count": 3,
   "metadata": {},
   "outputs": [],
   "source": [
    "def get_symbols(grid):\n",
    "    SYMBOLS = []\n",
    "    for line in grid:\n",
    "        for s in line:\n",
    "            if s not in SYMBOLS + NUMBERS + [\".\"]:\n",
    "                SYMBOLS.append(s)\n",
    "    return SYMBOLS"
   ]
  },
  {
   "cell_type": "code",
   "execution_count": 4,
   "metadata": {},
   "outputs": [],
   "source": [
    "def find_symbol(n, grid):\n",
    "    SYMBOLS = get_symbols(grid)\n",
    "\n",
    "    # Check on top, not including corners\n",
    "    if n.row > 0:\n",
    "        for i in n.col_indexes:\n",
    "            if grid[n.row-1][i] in SYMBOLS:\n",
    "                return True\n",
    "\n",
    "    # Check LHS including corners\n",
    "    if n.col_indexes[0] >0:\n",
    "        if grid[n.row][n.col_indexes[0]-1] in SYMBOLS:\n",
    "            return True\n",
    "        if n.row > 0:\n",
    "            if grid[n.row-1][n.col_indexes[0]-1] in SYMBOLS:\n",
    "                return True\n",
    "        if n.row < (len(grid)-1):\n",
    "            if grid[n.row+1][n.col_indexes[0]-1] in SYMBOLS:\n",
    "                return True\n",
    "\n",
    "    # Check RHS including corners\n",
    "    if n.col_indexes[-1] < (len(grid[0]) - 1):\n",
    "        if grid[n.row][n.col_indexes[-1]+1] in SYMBOLS:\n",
    "            return True\n",
    "        if n.row > 0:\n",
    "            if grid[n.row-1][n.col_indexes[-1]+1] in SYMBOLS:\n",
    "                return True\n",
    "        if n.row < (len(grid)-1):\n",
    "            if grid[n.row+1][n.col_indexes[-1]+1] in SYMBOLS:\n",
    "                return True\n",
    "\n",
    "    # Check below, not including corners\n",
    "    if n.row < (len(grid)-1):\n",
    "        for i in n.col_indexes:\n",
    "            if grid[n.row+1][i] in SYMBOLS:\n",
    "                return True\n",
    "\n",
    "    return False"
   ]
  },
  {
   "cell_type": "code",
   "execution_count": 5,
   "metadata": {},
   "outputs": [],
   "source": [
    "def part1(grid):\n",
    "    number_list = get_number_list(grid)\n",
    "\n",
    "    part_number_sum = 0\n",
    "    for n in number_list:\n",
    "        if find_symbol(n, grid):\n",
    "            part_number_sum += n.number\n",
    "\n",
    "    print(part_number_sum)\n"
   ]
  },
  {
   "cell_type": "code",
   "execution_count": 6,
   "metadata": {},
   "outputs": [],
   "source": [
    "part1_test = \"\"\"467..114..\n",
    "...*......\n",
    "..35..633.\n",
    "......#...\n",
    "617*......\n",
    ".....+.58.\n",
    "..592.....\n",
    "......755.\n",
    "...$.*....\n",
    ".664.598..\"\"\"\n",
    "\n",
    "test_grid = part1_test.splitlines()\n"
   ]
  },
  {
   "cell_type": "code",
   "execution_count": 7,
   "metadata": {},
   "outputs": [
    {
     "name": "stdout",
     "output_type": "stream",
     "text": [
      "4361\n"
     ]
    }
   ],
   "source": [
    "part1(test_grid)"
   ]
  },
  {
   "cell_type": "code",
   "execution_count": 8,
   "metadata": {},
   "outputs": [],
   "source": [
    "with open(\"inputs/day3.txt\") as file:\n",
    "    day1_input = file.read().splitlines() "
   ]
  },
  {
   "cell_type": "code",
   "execution_count": 9,
   "metadata": {},
   "outputs": [
    {
     "name": "stdout",
     "output_type": "stream",
     "text": [
      "532331\n"
     ]
    }
   ],
   "source": [
    "part1(day1_input)"
   ]
  },
  {
   "cell_type": "markdown",
   "metadata": {},
   "source": [
    "# Part 2"
   ]
  },
  {
   "cell_type": "code",
   "execution_count": 13,
   "metadata": {},
   "outputs": [],
   "source": [
    "def find_gears(n, grid):\n",
    "    gears = list()\n",
    "\n",
    "    # Check on top, not including corners\n",
    "    if n.row > 0:\n",
    "        for i in n.col_indexes:\n",
    "            if grid[n.row-1][i] == \"*\":\n",
    "                gears.append((n.row-1, i))\n",
    "\n",
    "    # Check LHS including corners\n",
    "    if n.col_indexes[0] >0:\n",
    "        if grid[n.row][n.col_indexes[0]-1] == \"*\":\n",
    "            gears.append((n.row, n.col_indexes[0]-1))\n",
    "        if n.row > 0:\n",
    "            if grid[n.row-1][n.col_indexes[0]-1] == \"*\":\n",
    "                gears.append((n.row-1, n.col_indexes[0]-1))\n",
    "        if n.row < (len(grid)-1):\n",
    "            if grid[n.row+1][n.col_indexes[0]-1] == \"*\":\n",
    "                gears.append((n.row+1, n.col_indexes[0]-1))\n",
    "\n",
    "    # Check RHS including corners\n",
    "    if n.col_indexes[-1] < (len(grid[0]) - 1):\n",
    "        if grid[n.row][n.col_indexes[-1]+1] == \"*\":\n",
    "            gears.append((n.row, n.col_indexes[-1]+1))\n",
    "        if n.row > 0:\n",
    "            if grid[n.row-1][n.col_indexes[-1]+1] == \"*\":\n",
    "                gears.append((n.row-1, n.col_indexes[-1]+1))\n",
    "        if n.row < (len(grid)-1):\n",
    "            if grid[n.row+1][n.col_indexes[-1]+1] == \"*\":\n",
    "                gears.append((n.row+1, n.col_indexes[-1]+1))\n",
    "\n",
    "    # Check below, not including corners\n",
    "    if n.row < (len(grid)-1):\n",
    "        for i in n.col_indexes:\n",
    "            if grid[n.row+1][i] == \"*\":\n",
    "                gears.append((n.row+1, i))\n",
    "\n",
    "    return gears\n"
   ]
  },
  {
   "cell_type": "code",
   "execution_count": 14,
   "metadata": {},
   "outputs": [],
   "source": [
    "def part2(grid):\n",
    "    gear_dict = dict()\n",
    "    number_list = get_number_list(grid)\n",
    "\n",
    "    for n in number_list:\n",
    "        gears = find_gears(n, grid)\n",
    "        for gear in gears:\n",
    "            if gear in gear_dict.keys():\n",
    "                gear_dict[gear].append(n)\n",
    "            else:\n",
    "                gear_dict[gear] = [n]\n",
    "\n",
    "\n",
    "    gear_ratio_sum = 0\n",
    "    for k, v in gear_dict.items():\n",
    "        if len(v) == 2:\n",
    "            gear_ratio_sum += v[0].number * v[1].number\n",
    "\n",
    "    print(gear_ratio_sum)"
   ]
  },
  {
   "cell_type": "code",
   "execution_count": 15,
   "metadata": {},
   "outputs": [
    {
     "name": "stdout",
     "output_type": "stream",
     "text": [
      "467835\n"
     ]
    }
   ],
   "source": [
    "part2(test_grid)"
   ]
  },
  {
   "cell_type": "code",
   "execution_count": 16,
   "metadata": {},
   "outputs": [
    {
     "name": "stdout",
     "output_type": "stream",
     "text": [
      "82301120\n"
     ]
    }
   ],
   "source": [
    "part2(day1_input)"
   ]
  }
 ],
 "metadata": {
  "kernelspec": {
   "display_name": "gpt",
   "language": "python",
   "name": "python3"
  },
  "language_info": {
   "codemirror_mode": {
    "name": "ipython",
    "version": 3
   },
   "file_extension": ".py",
   "mimetype": "text/x-python",
   "name": "python",
   "nbconvert_exporter": "python",
   "pygments_lexer": "ipython3",
   "version": "3.11.5"
  }
 },
 "nbformat": 4,
 "nbformat_minor": 2
}
