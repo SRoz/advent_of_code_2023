{
 "cells": [
  {
   "cell_type": "markdown",
   "metadata": {},
   "source": [
    "# Part 1"
   ]
  },
  {
   "cell_type": "code",
   "execution_count": 1,
   "metadata": {},
   "outputs": [],
   "source": [
    "import numpy as np"
   ]
  },
  {
   "cell_type": "code",
   "execution_count": 2,
   "metadata": {},
   "outputs": [],
   "source": [
    "grid = np.genfromtxt(\"inputs/day14.txt\", delimiter=1, dtype=str, comments=None)"
   ]
  },
  {
   "cell_type": "code",
   "execution_count": 3,
   "metadata": {},
   "outputs": [
    {
     "data": {
      "text/plain": [
       "113525"
      ]
     },
     "execution_count": 3,
     "metadata": {},
     "output_type": "execute_result"
    }
   ],
   "source": [
    "tilted = list()\n",
    "for col in grid.T:\n",
    "    parts = np.split(col, np.unique(np.concatenate([np.argwhere(col=='#')[:,0], np.argwhere(col=='#')[:,0]+1])))\n",
    "    tilted.append(np.concatenate([np.sort(p)[::-1] for p in parts]))\n",
    "\n",
    "np.dot(np.arange(len(grid), 0, -1), (np.array(tilted).T == 'O').sum(axis=1))"
   ]
  },
  {
   "cell_type": "markdown",
   "metadata": {},
   "source": [
    "# Part 2"
   ]
  },
  {
   "cell_type": "code",
   "execution_count": 4,
   "metadata": {},
   "outputs": [],
   "source": [
    "from functools import cache\n",
    "\n",
    "def tilt(grid, dir):\n",
    "    n_90_spins = {\n",
    "        'N': 0,\n",
    "        'E': 1,\n",
    "        'S': 2,\n",
    "        'W': -1,\n",
    "    }\n",
    "    \n",
    "    grid = np.rot90(grid, k=n_90_spins[dir])\n",
    "\n",
    "    tilted = list()\n",
    "    for col in grid.T:\n",
    "        parts = np.split(col, np.unique(np.concatenate([np.argwhere(col=='#')[:,0], np.argwhere(col=='#')[:,0]+1])))\n",
    "        tilted.append(np.concatenate([np.sort(p)[::-1] for p in parts]))\n",
    "\n",
    "    return np.rot90(np.array(tilted).T, k=-n_90_spins[dir])\n",
    "\n",
    "\n",
    "@cache\n",
    "def cycle(grid_bytes, grid_shape):\n",
    "    grid = np.frombuffer(grid_bytes, dtype=np.dtype('<U1')).reshape(grid_shape)\n",
    "    \n",
    "    for dir in ['N', 'W', 'S', 'E']:\n",
    "        grid = tilt(grid, dir)\n",
    "\n",
    "    return grid.tobytes()"
   ]
  },
  {
   "cell_type": "code",
   "execution_count": 5,
   "metadata": {},
   "outputs": [
    {
     "data": {
      "text/plain": [
       "101292"
      ]
     },
     "execution_count": 5,
     "metadata": {},
     "output_type": "execute_result"
    }
   ],
   "source": [
    "n=1_000_000_000\n",
    "mod_not_updated = mod = 0\n",
    "\n",
    "grid_bytes, grid_shape = grid.tobytes(), grid.shape\n",
    "\n",
    "for i in range(n):\n",
    "    grid_bytes = cycle(grid_bytes, grid_shape)\n",
    "\n",
    "    # Use the cache to figure out size of cycle \n",
    "    \n",
    "    # Allow a bit of burn in\n",
    "    if i == 1000:\n",
    "        cycle.cache_clear()\n",
    "        mod = 0\n",
    "\n",
    "    if cycle.cache_info().misses > mod:\n",
    "        mod = cycle.cache_info().misses\n",
    "        mod_not_updated = 0\n",
    "    else:\n",
    "        mod_not_updated +=1\n",
    "    if mod_not_updated >= 1000:\n",
    "        if (i-n) % mod == (-1 % mod):\n",
    "            break\n",
    "\n",
    "grid_out = np.frombuffer(grid_bytes, dtype=np.dtype('<U1')).reshape(grid_shape)\n",
    "np.dot(np.arange(len(grid), 0, -1), (grid_out == 'O').sum(axis=1))"
   ]
  }
 ],
 "metadata": {
  "kernelspec": {
   "display_name": "base",
   "language": "python",
   "name": "python3"
  },
  "language_info": {
   "codemirror_mode": {
    "name": "ipython",
    "version": 3
   },
   "file_extension": ".py",
   "mimetype": "text/x-python",
   "name": "python",
   "nbconvert_exporter": "python",
   "pygments_lexer": "ipython3",
   "version": "3.11.5"
  }
 },
 "nbformat": 4,
 "nbformat_minor": 2
}
