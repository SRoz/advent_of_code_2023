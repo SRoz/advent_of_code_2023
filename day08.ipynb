{
 "cells": [
  {
   "cell_type": "markdown",
   "metadata": {},
   "source": [
    "# Part 1"
   ]
  },
  {
   "cell_type": "code",
   "execution_count": 1,
   "metadata": {},
   "outputs": [],
   "source": [
    "import re\n",
    "\n",
    "def parse_input(input):\n",
    "    lines = input.splitlines()\n",
    "    instructions = lines[0]\n",
    "    maps = lines [2:]\n",
    "\n",
    "\n",
    "    map_dict = dict()\n",
    "    for m in maps:\n",
    "        l = re.findall(\"([A-Z0-9]+)\", m)\n",
    "        map_dict[l[0]] = {'L': l[1], 'R': l[2]}\n",
    "    \n",
    "    return instructions, map_dict\n",
    "\n",
    "def traverse_map(instructions, map_dict):\n",
    "    turns = 0\n",
    "    element = 'AAA'\n",
    "\n",
    "    while element != 'ZZZ':\n",
    "        element = map_dict[element][instructions[turns % len(instructions)]]\n",
    "        turns +=1 \n",
    "    return turns"
   ]
  },
  {
   "cell_type": "code",
   "execution_count": 2,
   "metadata": {},
   "outputs": [],
   "source": [
    "with open(\"inputs/day8.txt\", \"r\") as  fn:\n",
    "    input = fn.read()"
   ]
  },
  {
   "cell_type": "code",
   "execution_count": 3,
   "metadata": {},
   "outputs": [],
   "source": [
    "def part1(input):\n",
    "    print(traverse_map(*parse_input(input)))   "
   ]
  },
  {
   "cell_type": "markdown",
   "metadata": {},
   "source": [
    "# Part 2"
   ]
  },
  {
   "cell_type": "code",
   "execution_count": 4,
   "metadata": {},
   "outputs": [],
   "source": [
    "from math import lcm"
   ]
  },
  {
   "cell_type": "code",
   "execution_count": 5,
   "metadata": {},
   "outputs": [],
   "source": [
    "def part2(input):\n",
    "    instructions, map_dict = parse_input(input)\n",
    "\n",
    "    turns = 0\n",
    "    elements = [k for k in map_dict.keys() if k[2]=='A']\n",
    "    \n",
    "    results = list()\n",
    "    for ele in elements:\n",
    "        turns = 0\n",
    "        while ele[2] != 'Z':\n",
    "            ele = map_dict[ele][instructions[turns % len(instructions)]]\n",
    "            turns +=1\n",
    "        results.append(turns)\n",
    "\n",
    "    print(lcm(*results))"
   ]
  },
  {
   "cell_type": "code",
   "execution_count": 6,
   "metadata": {},
   "outputs": [
    {
     "name": "stdout",
     "output_type": "stream",
     "text": [
      "18024643846273\n"
     ]
    }
   ],
   "source": [
    "part2(input)"
   ]
  }
 ],
 "metadata": {
  "kernelspec": {
   "display_name": "gpt",
   "language": "python",
   "name": "python3"
  },
  "language_info": {
   "codemirror_mode": {
    "name": "ipython",
    "version": 3
   },
   "file_extension": ".py",
   "mimetype": "text/x-python",
   "name": "python",
   "nbconvert_exporter": "python",
   "pygments_lexer": "ipython3",
   "version": "3.11.5"
  }
 },
 "nbformat": 4,
 "nbformat_minor": 2
}
