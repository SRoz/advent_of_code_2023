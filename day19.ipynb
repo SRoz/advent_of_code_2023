{
 "cells": [
  {
   "cell_type": "code",
   "execution_count": 1,
   "metadata": {},
   "outputs": [],
   "source": [
    "import re\n",
    "def process_input(input):\n",
    "    workflows, ratings = (p.splitlines() for p in input.split(\"\\n\\n\"))\n",
    "    workflows = {w[0]:[r.split(\":\") for r in w[1].split(\",\")] for w in [w[:-1].split(\"{\") for w in workflows]}\n",
    "    ratings = [{k: int(v) for k, v in dict(re.findall(\"([xmas])=(\\d+)\", r)).items()} for r in ratings]\n",
    "    return workflows, ratings"
   ]
  },
  {
   "cell_type": "code",
   "execution_count": 2,
   "metadata": {},
   "outputs": [],
   "source": [
    "with open(\"inputs/day19.txt\", \"r\") as fn:\n",
    "    input = fn.read()\n",
    "    \n",
    "workflows, ratings = process_input(input)"
   ]
  },
  {
   "cell_type": "markdown",
   "metadata": {},
   "source": [
    "# Part 1"
   ]
  },
  {
   "cell_type": "code",
   "execution_count": 3,
   "metadata": {},
   "outputs": [],
   "source": [
    "def evalulate_part(rating, workflows):\n",
    "    flow_name = 'in'\n",
    "    while flow_name not in ('A', 'R'):\n",
    "        workflow = workflows[flow_name]\n",
    "        for rule in workflow:\n",
    "            if len(rule)==2:\n",
    "                if eval(rule[0], rating.copy()):\n",
    "                    flow_name = rule[1]\n",
    "                    break\n",
    "            else:\n",
    "                flow_name = rule[0]\n",
    "    return flow_name\n"
   ]
  },
  {
   "cell_type": "code",
   "execution_count": 4,
   "metadata": {},
   "outputs": [
    {
     "data": {
      "text/plain": [
       "492702"
      ]
     },
     "execution_count": 4,
     "metadata": {},
     "output_type": "execute_result"
    }
   ],
   "source": [
    "sum_parts = 0 \n",
    "for rating in ratings:\n",
    "    evaluation = evalulate_part(rating, workflows)\n",
    "    if evaluation == 'A':\n",
    "        sum_parts += sum(rating.values())\n",
    "sum_parts"
   ]
  },
  {
   "cell_type": "markdown",
   "metadata": {},
   "source": [
    "# Part 2"
   ]
  },
  {
   "cell_type": "code",
   "execution_count": 5,
   "metadata": {},
   "outputs": [],
   "source": [
    "def split_range(range, ineq, n):\n",
    "    if ineq == '<':\n",
    "        tf = [range[0], min(n-1,range[1])], [max(n,range[0]), range[1]]\n",
    "    else:\n",
    "        tf = [max(n+1, range[0]), range[1]], [range[0], min(range[1],n)]\n",
    "    \n",
    "    to_ret = list()\n",
    "    for e in tf:\n",
    "        if e[0]>e[1]:\n",
    "            to_ret.append(None)\n",
    "        else:\n",
    "            to_ret.append(e)\n",
    "    return tuple(to_ret)"
   ]
  },
  {
   "cell_type": "code",
   "execution_count": 6,
   "metadata": {},
   "outputs": [
    {
     "data": {
      "text/plain": [
       "138616621185978"
      ]
     },
     "execution_count": 6,
     "metadata": {},
     "output_type": "execute_result"
    }
   ],
   "source": [
    "RANGES = [{x: [1,4000] for x in 'xmas'} | {'flow':'in'}]\n",
    "\n",
    "while flow_names := set([r['flow'] for r in RANGES]) - {'A', 'R'}:\n",
    "    for flow_name in flow_names:\n",
    "        for rule in workflows[flow_name]:\n",
    "            ranges_mid = [r for r in RANGES if r['flow']==flow_name]\n",
    "            RANGES = [r for r in RANGES if r['flow']!=flow_name]\n",
    "            if len(rule)==2:\n",
    "                for ranges in ranges_mid:\n",
    "                    r, ineq, n = rule[0][0], rule[0][1], int(rule[0][2:])\n",
    "                    t, f = split_range(ranges[r], ineq, n)\n",
    "                    \n",
    "                    if t: RANGES.append(ranges | {r: t, 'flow': rule[1]})\n",
    "                    if f: RANGES.append(ranges | {r: f})\n",
    "\n",
    "            else:\n",
    "                for ranges in ranges_mid:\n",
    "                    RANGES.append(ranges | {'flow': rule[0]})\n",
    "\n",
    "def flowsum(d):\n",
    "    m = 1\n",
    "    for x in 'xmas':\n",
    "        m*=(d[x][1]-d[x][0]+1)\n",
    "    return m\n",
    "sum([flowsum(r) for r in RANGES if r['flow']=='A'])"
   ]
  }
 ],
 "metadata": {
  "kernelspec": {
   "display_name": "base",
   "language": "python",
   "name": "python3"
  },
  "language_info": {
   "codemirror_mode": {
    "name": "ipython",
    "version": 3
   },
   "file_extension": ".py",
   "mimetype": "text/x-python",
   "name": "python",
   "nbconvert_exporter": "python",
   "pygments_lexer": "ipython3",
   "version": "3.11.5"
  }
 },
 "nbformat": 4,
 "nbformat_minor": 2
}
