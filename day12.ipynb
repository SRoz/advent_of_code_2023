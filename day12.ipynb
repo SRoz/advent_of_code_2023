{
 "cells": [
  {
   "cell_type": "markdown",
   "metadata": {},
   "source": [
    "# Part 1"
   ]
  },
  {
   "cell_type": "code",
   "execution_count": 1,
   "metadata": {},
   "outputs": [],
   "source": [
    "import re\n",
    "from sympy.utilities.iterables import multiset_permutations"
   ]
  },
  {
   "cell_type": "code",
   "execution_count": 2,
   "metadata": {},
   "outputs": [],
   "source": [
    "test_input = \"\"\"???.### 1,1,3\n",
    ".??..??...?##. 1,1,3\n",
    "?#?#?#?#?#?#?#? 1,3,1,6\n",
    "????.#...#... 4,1,1\n",
    "????.######..#####. 1,6,5\n",
    "?###???????? 3,2,1\n",
    "\"\"\""
   ]
  },
  {
   "cell_type": "code",
   "execution_count": 3,
   "metadata": {},
   "outputs": [],
   "source": [
    "def gen_string(groups, gaps):\n",
    "    return ''.join(('.'*gap ) + ('#'*group) for group, gap in zip(groups+[0], gaps))\n",
    "\n",
    "def test_match(pattern, test_string):\n",
    "    if re.match(pattern.replace(\"?\", \"[#|.]\").replace(\".\", \"\\.\"), test_string):\n",
    "        return True\n",
    "    else:\n",
    "        return False\n",
    "    \n",
    "def post_to_num(post, n):\n",
    "    out = [0]* n\n",
    "    _i = 0\n",
    "    for v in post:\n",
    "        if v == '|':\n",
    "            _i+= 1\n",
    "        else:\n",
    "            out[_i] += 1\n",
    "    return out"
   ]
  },
  {
   "cell_type": "code",
   "execution_count": 4,
   "metadata": {},
   "outputs": [],
   "source": [
    "with open(\"inputs/day12.txt\", \"r\") as fn:\n",
    "    input = fn.read()"
   ]
  },
  {
   "cell_type": "code",
   "execution_count": 5,
   "metadata": {},
   "outputs": [
    {
     "name": "stdout",
     "output_type": "stream",
     "text": [
      "8180\n"
     ]
    }
   ],
   "source": [
    "def part1(input):\n",
    "    lines = [l.split(\" \") for l in input.splitlines()]\n",
    "    overall_total = 0\n",
    "    for pattern, groups in lines:\n",
    "        groups = list(map(int, groups.split(\",\")))\n",
    "        gaps = [0] + [1]*(len(groups)-1) + [0]\n",
    "        dof = len(pattern) - sum(groups) - sum(gaps)\n",
    "        count = 0\n",
    "        total = 0\n",
    "        for perm in multiset_permutations([\"|\"]*(len(gaps)-1) +  [\"*\"]*dof):\n",
    "            _additions = post_to_num(perm, len(gaps))\n",
    "            _gaps = [i+j for i,j in zip(gaps, _additions)]\n",
    "            _string = gen_string(groups, _gaps)    \n",
    "            if test_match(pattern, _string):\n",
    "                count += 1\n",
    "                overall_total += 1\n",
    "            total+=1\n",
    "    print(overall_total)\n",
    "\n",
    "part1(input)"
   ]
  },
  {
   "cell_type": "markdown",
   "metadata": {},
   "source": [
    "# Part 2"
   ]
  },
  {
   "cell_type": "code",
   "execution_count": 6,
   "metadata": {},
   "outputs": [],
   "source": [
    "from functools import cache\n",
    "from tqdm.notebook import tqdm"
   ]
  },
  {
   "cell_type": "code",
   "execution_count": 8,
   "metadata": {},
   "outputs": [],
   "source": [
    "@cache\n",
    "def fork_off(pattern, groups, i, n_in_group, n_complete_seq):\n",
    "      if i == len(pattern):\n",
    "            return 1 if len(groups) == n_complete_seq else 0\n",
    "      elif pattern[i] == '#':\n",
    "            return fork_off(pattern, groups, i + 1, n_in_group + 1, n_complete_seq)\n",
    "      elif pattern[i] == '.' or n_complete_seq == len(groups):\n",
    "            if n_complete_seq < len(groups) and n_in_group == groups[n_complete_seq]:\n",
    "                  return fork_off(pattern, groups, i + 1, 0, n_complete_seq + 1)\n",
    "            elif n_in_group == 0:\n",
    "                  return fork_off(pattern, groups, i + 1, 0, n_complete_seq)\n",
    "            else:\n",
    "                  return 0\n",
    "      else:\n",
    "            hash_fork = fork_off(pattern, groups, i + 1, n_in_group + 1, n_complete_seq)\n",
    "            if n_in_group == groups[n_complete_seq]:\n",
    "                  return hash_fork + fork_off(pattern, groups, i + 1, 0, n_complete_seq + 1)\n",
    "            elif n_in_group == 0:\n",
    "                  return hash_fork + fork_off(pattern, groups, i + 1, 0, n_complete_seq)\n",
    "            return hash_fork"
   ]
  },
  {
   "cell_type": "code",
   "execution_count": 10,
   "metadata": {},
   "outputs": [
    {
     "data": {
      "application/vnd.jupyter.widget-view+json": {
       "model_id": "81b0011148c5442d88bf1895b0882142",
       "version_major": 2,
       "version_minor": 0
      },
      "text/plain": [
       "  0%|          | 0/1000 [00:00<?, ?it/s]"
      ]
     },
     "metadata": {},
     "output_type": "display_data"
    },
    {
     "name": "stdout",
     "output_type": "stream",
     "text": [
      "620189727003627\n"
     ]
    }
   ],
   "source": [
    "def part2(lines):\n",
    "    lines = [l.split(\" \") for l in input.splitlines()]\n",
    "    expanded_lines = list()\n",
    "    n = 5\n",
    "    for line in lines:\n",
    "        expanded_lines.append([\n",
    "            \"?\".join([line[0]]*n),\n",
    "            \",\".join([line[1]]*n)\n",
    "            ])\n",
    "    \n",
    "    overall_total = 0\n",
    "    for pattern, groups in tqdm(expanded_lines):\n",
    "        groups = list(map(int,groups.split(\",\")))\n",
    "        overall_total += fork_off(pattern+'.', tuple(groups), 0, 0, 0)\n",
    "    print(overall_total)\n",
    "\n",
    "part2(input)"
   ]
  }
 ],
 "metadata": {
  "kernelspec": {
   "display_name": "base",
   "language": "python",
   "name": "python3"
  },
  "language_info": {
   "codemirror_mode": {
    "name": "ipython",
    "version": 3
   },
   "file_extension": ".py",
   "mimetype": "text/x-python",
   "name": "python",
   "nbconvert_exporter": "python",
   "pygments_lexer": "ipython3",
   "version": "3.11.5"
  }
 },
 "nbformat": 4,
 "nbformat_minor": 2
}
