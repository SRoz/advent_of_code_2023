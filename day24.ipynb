{
 "cells": [
  {
   "cell_type": "code",
   "execution_count": 1,
   "metadata": {},
   "outputs": [],
   "source": [
    "with open(\"inputs/day24.txt\", \"r\") as fn:\n",
    "    input = fn.read()\n",
    "lines = input.splitlines() \n",
    "hailstones = [[list(map(int, part.split(\", \"))) for part in line.split(\"@\")] for line in lines]"
   ]
  },
  {
   "cell_type": "markdown",
   "metadata": {},
   "source": [
    "# Part 1"
   ]
  },
  {
   "cell_type": "code",
   "execution_count": 2,
   "metadata": {},
   "outputs": [],
   "source": [
    "import numpy as np\n",
    "from itertools import combinations\n",
    "\n",
    "hailstones = np.array(hailstones)\n",
    "initial_position, velocity = hailstones[:,0,:], hailstones[:,1,:]\n",
    "\n",
    "def get_path_cross_times(initial_position, velocity, i_a, i_b):\n",
    "    ax, ay = initial_position[i_a][:2]\n",
    "    adx, ady = velocity[i_a][:2]\n",
    "    bx, by = initial_position[i_b][:2]\n",
    "    bdx, bdy = velocity[i_b][:2]\n",
    "    \n",
    "    if (denom := ((bdy/ady) - (bdx/adx))) != 0:\n",
    "        t2 = (((bx-ax)/adx) - ((by-ay)/ady)) / denom\n",
    "        t1 = (bx + t2*bdx - ax) / adx\n",
    "\n",
    "        if t1 >0 and t2>0:\n",
    "            return ax + t1 * adx, ay + t1 * ady"
   ]
  },
  {
   "cell_type": "code",
   "execution_count": 3,
   "metadata": {},
   "outputs": [
    {
     "data": {
      "text/plain": [
       "15558"
      ]
     },
     "execution_count": 3,
     "metadata": {},
     "output_type": "execute_result"
    }
   ],
   "source": [
    "test_area = (200000000000000, 400000000000000)\n",
    "\n",
    "total_intersections = 0\n",
    "for i, (a, b) in enumerate(combinations(range(initial_position.shape[0]), 2)):\n",
    "    cross = get_path_cross_times(initial_position, velocity, a,b)\n",
    "    if cross and (test_area[0] <= cross[0] <= test_area[1]) and (test_area[0] <= cross[1] <= test_area[1]):\n",
    "        total_intersections += 1\n",
    "\n",
    "total_intersections"
   ]
  },
  {
   "cell_type": "markdown",
   "metadata": {},
   "source": [
    "# Part 2"
   ]
  },
  {
   "cell_type": "markdown",
   "metadata": {},
   "source": [
    "It's just simultaneous equations.\n",
    "6 unknowns, plus an additional unknown t for each collision used\n",
    "- 1 intersection = 7 unknown, 3 eqs\n",
    "- 2 interesction = 8 unknown, 6 eqs\n",
    "- 3 intersection = 9 unknown, 9 eqs"
   ]
  },
  {
   "cell_type": "code",
   "execution_count": 4,
   "metadata": {},
   "outputs": [
    {
     "data": {
      "text/latex": [
       "$\\displaystyle 765636044333842$"
      ],
      "text/plain": [
       "765636044333842"
      ]
     },
     "execution_count": 4,
     "metadata": {},
     "output_type": "execute_result"
    }
   ],
   "source": [
    "from sympy import Eq, solve, symbols\n",
    "x, y, z, dx, dy, dz= symbols('x y z dx dy dz')\n",
    "\n",
    "eqs = list()\n",
    "for i in range(3):\n",
    "    ax, ay, az = initial_position[i]\n",
    "    adx, ady, adz = velocity[i]\n",
    "\n",
    "    t = symbols(f\"t{i}\")\n",
    "\n",
    "    eqs.extend(\n",
    "        [\n",
    "            Eq(x + t * dx, ax + t * adx),\n",
    "            Eq(y + t * dy, ay + t * ady),\n",
    "            Eq(z + t * dz, az + t * adz),\n",
    "        ]\n",
    "    )\n",
    "\n",
    "sol = solve(eqs)\n",
    "sol[0][x] + sol[0][y] + sol[0][z]"
   ]
  }
 ],
 "metadata": {
  "kernelspec": {
   "display_name": "gpt",
   "language": "python",
   "name": "python3"
  },
  "language_info": {
   "codemirror_mode": {
    "name": "ipython",
    "version": 3
   },
   "file_extension": ".py",
   "mimetype": "text/x-python",
   "name": "python",
   "nbconvert_exporter": "python",
   "pygments_lexer": "ipython3",
   "version": "3.11.5"
  }
 },
 "nbformat": 4,
 "nbformat_minor": 2
}
