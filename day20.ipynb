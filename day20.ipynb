{
 "cells": [
  {
   "cell_type": "code",
   "execution_count": 1,
   "metadata": {},
   "outputs": [],
   "source": [
    "class Module:\n",
    "    def __init__(self, receivers: list[str]):\n",
    "        self.receivers = receivers\n",
    "        self.pulse_counts = {'low':0, 'high':0}\n",
    "    \n",
    "    def init_conjunctions(self, name, modules):\n",
    "        modules_out = dict()\n",
    "        for r in self.receivers:\n",
    "            if r not in modules.keys():\n",
    "                modules_out[r] = Output()\n",
    "            elif type(modules[r])==Conjunction:\n",
    "                modules[r].memory[name] = 'low'\n",
    "        return modules | modules_out\n",
    "\n",
    "class FlipFlop(Module):\n",
    "    def __init__(self, receivers):\n",
    "        self.state='off'\n",
    "        super().__init__(receivers)\n",
    "    \n",
    "    def pulse(self, pulse, module_name):\n",
    "        if pulse=='low':\n",
    "            if self.state=='off':\n",
    "                self.state = 'on'\n",
    "                return 'high'\n",
    "            else:\n",
    "                self.state = 'off'\n",
    "                return 'low'\n",
    "        else:\n",
    "            return None\n",
    "    \n",
    "class Conjunction(Module):\n",
    "    def __init__(self, receivers):\n",
    "        self.memory = dict()\n",
    "        super().__init__(receivers)\n",
    "\n",
    "    def pulse(self, pulse, module_name):\n",
    "        self.memory[module_name] = pulse\n",
    "\n",
    "        if any([p=='high' for p in self.memory.values()]) and (module_name=='gq'):\n",
    "            print(\"!\")\n",
    "\n",
    "        if all([p=='high' for p in self.memory.values()]):\n",
    "            return 'low'\n",
    "        else:\n",
    "            return 'high'\n",
    "\n",
    "class Broadcast(Module):\n",
    "    def pulse(self, pulse, module_name):\n",
    "        return pulse\n",
    "    \n",
    "class Button(Module):\n",
    "    def pulse(self, *_):\n",
    "        return 'low'\n",
    "    \n",
    "class Output(Module):\n",
    "    def __init__(self):\n",
    "        super().__init__([])\n",
    "    \n",
    "    def pulse(self, *_):\n",
    "        return None\n",
    "    \n",
    "class Modules:\n",
    "    def __init__(self, input, verbose=False):\n",
    "        self.verbose = verbose\n",
    "        self.modules = dict()\n",
    "        for line in input.splitlines():\n",
    "            module, receivers = line.split(\" -> \")\n",
    "            receivers = receivers.split(\", \")\n",
    "\n",
    "            match module[0]:\n",
    "                case '%': self.modules[module[1:]] = FlipFlop(receivers)\n",
    "                case '&': self.modules[module[1:]] = Conjunction(receivers)\n",
    "                case 'b': self.modules[module] = Broadcast(receivers)\n",
    "        \n",
    "        self.modules['button'] = Button(['broadcaster'])\n",
    "        self.modules['output'] = Output()\n",
    "        self.init_conjunctions()\n",
    "\n",
    "    def init_conjunctions(self):\n",
    "        modules_out = dict()\n",
    "        for name, module in self.modules.items():\n",
    "            modules_out = modules_out | module.init_conjunctions(name, self.modules)\n",
    "        self.modules = modules_out\n",
    "\n",
    "    def pulse(self, senders: list[str], receivers: list[str], pulses_in: list[str]):\n",
    "        modules_out = list()\n",
    "        pulses_out = list()\n",
    "        receivers_out = list()\n",
    "         \n",
    "        for sender_name, receiver_name, pulse_in in zip(senders, receivers, pulses_in): \n",
    "            module = self.modules[receiver_name]\n",
    "            if pulse_out := module.pulse(pulse_in, sender_name):\n",
    "                for next_receiver in module.receivers:\n",
    "                    if self.verbose:\n",
    "                        print(receiver_name, \"->\", pulse_out, \"->\", next_receiver)\n",
    "                    receivers_out.append(receiver_name)\n",
    "                    modules_out.append(next_receiver)\n",
    "                    pulses_out.append(pulse_out)\n",
    "\n",
    "                    module.pulse_counts[pulse_out] += 1\n",
    "                \n",
    "        return receivers_out, modules_out, pulses_out\n",
    "\n",
    "\n",
    "    def get_results(self):\n",
    "        low = sum([m.pulse_counts['low'] for m in self.modules.values()])\n",
    "        high = sum([m.pulse_counts['high'] for m in self.modules.values()])\n",
    "        return low*high\n",
    "    \n",
    "    def run(self, n=1):\n",
    "        for _ in range(n):\n",
    "            out = [''], ['button'], ['']\n",
    "            while out[0]:\n",
    "                out = self.pulse(*out)\n",
    "\n"
   ]
  },
  {
   "cell_type": "code",
   "execution_count": 2,
   "metadata": {},
   "outputs": [
    {
     "data": {
      "text/plain": [
       "832957356"
      ]
     },
     "execution_count": 2,
     "metadata": {},
     "output_type": "execute_result"
    }
   ],
   "source": [
    "with open(\"inputs/day20.txt\", 'r') as fn:\n",
    "    input = fn.read()\n",
    "\n",
    "modules = Modules(input)\n",
    "modules.run(1000)\n",
    "modules.get_results()"
   ]
  },
  {
   "cell_type": "markdown",
   "metadata": {},
   "source": [
    "# Part 2"
   ]
  },
  {
   "cell_type": "code",
   "execution_count": 3,
   "metadata": {},
   "outputs": [
    {
     "data": {
      "text/plain": [
       "[('gq', ['rx'])]"
      ]
     },
     "execution_count": 3,
     "metadata": {},
     "output_type": "execute_result"
    }
   ],
   "source": [
    "[(k,v.receivers) for k, v in modules.modules.items() if 'rx' in v.receivers]"
   ]
  },
  {
   "cell_type": "code",
   "execution_count": 4,
   "metadata": {},
   "outputs": [
    {
     "data": {
      "text/plain": [
       "__main__.Conjunction"
      ]
     },
     "execution_count": 4,
     "metadata": {},
     "output_type": "execute_result"
    }
   ],
   "source": [
    "type(modules.modules['gq'])"
   ]
  },
  {
   "cell_type": "code",
   "execution_count": 5,
   "metadata": {},
   "outputs": [
    {
     "data": {
      "text/plain": [
       "['xj', 'qs', 'kz', 'km']"
      ]
     },
     "execution_count": 5,
     "metadata": {},
     "output_type": "execute_result"
    }
   ],
   "source": [
    "gq_inputs = [k for k, v in modules.modules.items() if 'gq' in v.receivers]\n",
    "gq_inputs"
   ]
  },
  {
   "cell_type": "markdown",
   "metadata": {},
   "source": [
    "> We need each of the above to be 'high' to get a 'high' to gq"
   ]
  },
  {
   "cell_type": "code",
   "execution_count": 6,
   "metadata": {},
   "outputs": [],
   "source": [
    "with open(\"inputs/day20.txt\", 'r') as fn:\n",
    "    input = fn.read()\n",
    "\n",
    "modules = Modules(input)\n",
    "\n",
    "gq_tracker = {k: list() for k in gq_inputs}\n",
    "_gq_tracker = {k: 0 for k in gq_inputs}\n",
    "for i in range(20_000):\n",
    "    modules.run(1)\n",
    "    for k in gq_inputs:\n",
    "        if (_i:=modules.modules[k].pulse_counts['high']) > _gq_tracker[k]:\n",
    "            gq_tracker[k].append(i+1)\n",
    "            _gq_tracker[k] = _i"
   ]
  },
  {
   "cell_type": "code",
   "execution_count": 7,
   "metadata": {},
   "outputs": [
    {
     "data": {
      "text/plain": [
       "{'xj': [3733, 7466, 11199, 14932, 18665],\n",
       " 'qs': [4019, 8038, 12057, 16076],\n",
       " 'kz': [3911, 7822, 11733, 15644, 19555],\n",
       " 'km': [4093, 8186, 12279, 16372]}"
      ]
     },
     "execution_count": 7,
     "metadata": {},
     "output_type": "execute_result"
    }
   ],
   "source": [
    "gq_tracker"
   ]
  },
  {
   "cell_type": "code",
   "execution_count": 8,
   "metadata": {},
   "outputs": [
    {
     "data": {
      "text/plain": [
       "240162699605221"
      ]
     },
     "execution_count": 8,
     "metadata": {},
     "output_type": "execute_result"
    }
   ],
   "source": [
    "from math import lcm\n",
    "lcm(3733, 4019, 3911, 4093)"
   ]
  }
 ],
 "metadata": {
  "kernelspec": {
   "display_name": "base",
   "language": "python",
   "name": "python3"
  },
  "language_info": {
   "codemirror_mode": {
    "name": "ipython",
    "version": 3
   },
   "file_extension": ".py",
   "mimetype": "text/x-python",
   "name": "python",
   "nbconvert_exporter": "python",
   "pygments_lexer": "ipython3",
   "version": "3.11.5"
  }
 },
 "nbformat": 4,
 "nbformat_minor": 2
}
