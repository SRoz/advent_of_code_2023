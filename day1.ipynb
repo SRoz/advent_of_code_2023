{
 "cells": [
  {
   "cell_type": "code",
   "execution_count": 1,
   "metadata": {},
   "outputs": [],
   "source": [
    "test_input = \"\"\"1abc2\n",
    "pqr3stu8vwx\n",
    "a1b2c3d4e5f\n",
    "treb7uchet\"\"\""
   ]
  },
  {
   "cell_type": "code",
   "execution_count": 2,
   "metadata": {},
   "outputs": [],
   "source": [
    "def part1(input, verbose=False):\n",
    "    lines = input.split(\"\\n\")\n",
    "    sum_values = 0\n",
    "    for line in lines:\n",
    "        digits = [l for l in line if l.isdigit()]\n",
    "        new = int(digits[0] + digits[-1])\n",
    "        sum_values += new\n",
    "        if verbose: print(new)\n",
    "    if verbose: print(\"---\")\n",
    "    print(sum_values)"
   ]
  },
  {
   "cell_type": "code",
   "execution_count": 3,
   "metadata": {},
   "outputs": [
    {
     "name": "stdout",
     "output_type": "stream",
     "text": [
      "142\n"
     ]
    }
   ],
   "source": [
    "part1(test_input)"
   ]
  },
  {
   "cell_type": "code",
   "execution_count": 4,
   "metadata": {},
   "outputs": [],
   "source": [
    "with open(\"inputs/day1.txt\") as fn:\n",
    "    part1_input = fn.read() "
   ]
  },
  {
   "cell_type": "code",
   "execution_count": 5,
   "metadata": {},
   "outputs": [
    {
     "name": "stdout",
     "output_type": "stream",
     "text": [
      "54331\n"
     ]
    }
   ],
   "source": [
    "part1(part1_input)"
   ]
  },
  {
   "cell_type": "markdown",
   "metadata": {},
   "source": [
    "## Part 2"
   ]
  },
  {
   "cell_type": "code",
   "execution_count": 6,
   "metadata": {},
   "outputs": [],
   "source": [
    "test_input2 = \"\"\"two1nine\n",
    "eightwothree\n",
    "abcone2threexyz\n",
    "xtwone3four\n",
    "4nineeightseven2\n",
    "zoneight234\n",
    "7pqrstsixteen\"\"\""
   ]
  },
  {
   "cell_type": "code",
   "execution_count": 7,
   "metadata": {},
   "outputs": [],
   "source": [
    "word_to_digit = {\n",
    "    'one': '1',\n",
    "    'two': '2',\n",
    "    'three': '3',\n",
    "    'four': '4',\n",
    "    'five': '5',\n",
    "    'six': '6',\n",
    "    'seven': '7', \n",
    "    'eight': '8', \n",
    "    'nine': '9',\n",
    "    'ten': '10',\n",
    "}"
   ]
  },
  {
   "cell_type": "code",
   "execution_count": 8,
   "metadata": {},
   "outputs": [],
   "source": [
    "def left(line):\n",
    "    ret = 0\n",
    "    for i in range(len(line)):\n",
    "        if line[i].isdigit():\n",
    "            return line[i]\n",
    "        else:\n",
    "            for d in (3,4,5):\n",
    "                word  = line[i:i+d]\n",
    "                # print(f\"word: {word}\")\n",
    "                if word in word_to_digit.keys():\n",
    "                    return word_to_digit[word]\n",
    "\n",
    "def right(line):\n",
    "    ret = 0\n",
    "    for i in reversed(range(len(line))):\n",
    "        if line[i].isdigit():\n",
    "            return line[i]\n",
    "        else:\n",
    "            for d in (3,4,5):\n",
    "                word  = line[i+1-d:i+1]\n",
    "                # print(f\"word: {word}\")\n",
    "                if word in word_to_digit.keys():\n",
    "                    return word_to_digit[word]\n",
    "    return ret"
   ]
  },
  {
   "cell_type": "code",
   "execution_count": 9,
   "metadata": {},
   "outputs": [],
   "source": [
    "def part2(input):\n",
    "    lines = input.split(\"\\n\")\n",
    "    \n",
    "    running_total = 0\n",
    "    for line in lines:\n",
    "        num = left(line) + right(line)\n",
    "        # print(num)\n",
    "        running_total += int(num)\n",
    "\n",
    "    return running_total"
   ]
  },
  {
   "cell_type": "code",
   "execution_count": 10,
   "metadata": {},
   "outputs": [
    {
     "data": {
      "text/plain": [
       "281"
      ]
     },
     "execution_count": 10,
     "metadata": {},
     "output_type": "execute_result"
    }
   ],
   "source": [
    "part2(test_input2)"
   ]
  },
  {
   "cell_type": "code",
   "execution_count": 11,
   "metadata": {},
   "outputs": [
    {
     "data": {
      "text/plain": [
       "54518"
      ]
     },
     "execution_count": 11,
     "metadata": {},
     "output_type": "execute_result"
    }
   ],
   "source": [
    "part2(part1_input)"
   ]
  }
 ],
 "metadata": {
  "kernelspec": {
   "display_name": "base",
   "language": "python",
   "name": "python3"
  },
  "language_info": {
   "codemirror_mode": {
    "name": "ipython",
    "version": 3
   },
   "file_extension": ".py",
   "mimetype": "text/x-python",
   "name": "python",
   "nbconvert_exporter": "python",
   "pygments_lexer": "ipython3",
   "version": "3.11.5"
  }
 },
 "nbformat": 4,
 "nbformat_minor": 2
}
