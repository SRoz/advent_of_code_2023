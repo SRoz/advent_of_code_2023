{
 "cells": [
  {
   "cell_type": "markdown",
   "metadata": {},
   "source": [
    "# Part 1"
   ]
  },
  {
   "cell_type": "code",
   "execution_count": 1,
   "metadata": {},
   "outputs": [],
   "source": [
    "part1_example = \"\"\"Card 1: 41 48 83 86 17 | 83 86  6 31 17  9 48 53\n",
    "Card 2: 13 32 20 16 61 | 61 30 68 82 17 32 24 19\n",
    "Card 3:  1 21 53 59 44 | 69 82 63 72 16 21 14  1\n",
    "Card 4: 41 92 73 84 69 | 59 84 76 51 58  5 54 83\n",
    "Card 5: 87 83 26 28 32 | 88 30 70 12 93 22 82 36\n",
    "Card 6: 31 18 13 56 72 | 74 77 10 23 35 67 36 11\"\"\""
   ]
  },
  {
   "cell_type": "code",
   "execution_count": 2,
   "metadata": {},
   "outputs": [],
   "source": [
    "def part1(input):\n",
    "    total_points = 0\n",
    "    for game_n, cards in (line.split(\": \") for line in input.splitlines()):\n",
    "        game_n = int(game_n.replace(\"Card\", \"\").replace(\" \", \"\"))\n",
    "        winning, hand = cards.split(\"|\")\n",
    "        winning = [int(n) for n in winning.split(\" \") if n]\n",
    "        hand = [int(n) for n in hand.split(\" \") if n]\n",
    "        points = 2 ** (sum([1 if n in winning else 0 for n in hand])-1)\n",
    "        if points >=1:\n",
    "            total_points += 2 ** (sum([1 if n in winning else 0 for n in hand])-1)\n",
    "\n",
    "    print(total_points)"
   ]
  },
  {
   "cell_type": "code",
   "execution_count": 3,
   "metadata": {},
   "outputs": [
    {
     "name": "stdout",
     "output_type": "stream",
     "text": [
      "13\n"
     ]
    }
   ],
   "source": [
    "part1(part1_example)"
   ]
  },
  {
   "cell_type": "code",
   "execution_count": 4,
   "metadata": {},
   "outputs": [],
   "source": [
    "with open(\"inputs/day4.txt\") as file:\n",
    "    part1_input = file.read()"
   ]
  },
  {
   "cell_type": "code",
   "execution_count": 5,
   "metadata": {},
   "outputs": [
    {
     "name": "stdout",
     "output_type": "stream",
     "text": [
      "23235\n"
     ]
    }
   ],
   "source": [
    "part1(part1_input)"
   ]
  },
  {
   "cell_type": "markdown",
   "metadata": {},
   "source": [
    "# Part 2"
   ]
  },
  {
   "cell_type": "code",
   "execution_count": 6,
   "metadata": {},
   "outputs": [],
   "source": [
    "from dataclasses import dataclass\n",
    "\n",
    "@dataclass\n",
    "class ScratchCard:\n",
    "    card_number: int\n",
    "    points: int\n",
    "    n_instances: int = 1\n",
    "\n",
    "def get_card_list(input):\n",
    "    card_list = list()\n",
    "    for card_n, cards in (line.split(\": \") for line in input.splitlines()):\n",
    "        card_n = int(card_n.replace(\"Card\", \"\").replace(\" \", \"\"))\n",
    "        winning, hand = cards.split(\"|\")\n",
    "        winning = [int(n) for n in winning.split(\" \") if n]\n",
    "        hand = [int(n) for n in hand.split(\" \") if n]\n",
    "        points = sum([1 if n in winning else 0 for n in hand])\n",
    "        \n",
    "        card_list.append(ScratchCard(card_n, points))\n",
    "    return card_list\n",
    "\n",
    "def part2(input):\n",
    "    card_list = get_card_list(input)\n",
    "\n",
    "    for card in card_list:\n",
    "        for i in range(card.points):\n",
    "            card_list[card.card_number + i].n_instances += card.n_instances\n",
    "        \n",
    "    print(sum([card.n_instances for card in card_list]))"
   ]
  },
  {
   "cell_type": "code",
   "execution_count": 7,
   "metadata": {},
   "outputs": [
    {
     "name": "stdout",
     "output_type": "stream",
     "text": [
      "30\n"
     ]
    }
   ],
   "source": [
    "part2(part1_example)"
   ]
  },
  {
   "cell_type": "code",
   "execution_count": 8,
   "metadata": {},
   "outputs": [
    {
     "name": "stdout",
     "output_type": "stream",
     "text": [
      "5920640\n"
     ]
    }
   ],
   "source": [
    "part2(part1_input)"
   ]
  }
 ],
 "metadata": {
  "kernelspec": {
   "display_name": "gpt",
   "language": "python",
   "name": "python3"
  },
  "language_info": {
   "codemirror_mode": {
    "name": "ipython",
    "version": 3
   },
   "file_extension": ".py",
   "mimetype": "text/x-python",
   "name": "python",
   "nbconvert_exporter": "python",
   "pygments_lexer": "ipython3",
   "version": "3.11.5"
  }
 },
 "nbformat": 4,
 "nbformat_minor": 2
}
