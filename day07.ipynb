{
 "cells": [
  {
   "cell_type": "markdown",
   "metadata": {},
   "source": [
    "# All together"
   ]
  },
  {
   "cell_type": "code",
   "execution_count": 1,
   "metadata": {},
   "outputs": [],
   "source": [
    "from collections import Counter\n",
    "import numpy as np\n",
    "\n",
    "class Hand:\n",
    "    def __init__(self, hand):\n",
    "        self.hand = hand\n",
    "        self.hand_strength = (self.hand_type_valuer()*13**5) + self.order_valuer()\n",
    "\n",
    "    def hand_type_valuer(self):\n",
    "        counts = Counter(self.hand)\n",
    "        n_distinct = len(counts)\n",
    "        largest_count = counts.most_common()[0][1]\n",
    "        \n",
    "        map = {\n",
    "            (1,5): 7,\n",
    "            (2,4): 6,\n",
    "            (2,3): 5,\n",
    "            (3,3): 4,\n",
    "            (3,2): 3,\n",
    "            (4,2): 2,\n",
    "            (5,1): 1\n",
    "        }\n",
    "\n",
    "        return map[(n_distinct, largest_count)]\n",
    "    \n",
    "    def order_valuer(self):\n",
    "        card_values = {str(c): v for v, c in enumerate(list(range(2,10)) + ['T', 'J', 'Q', 'K', 'A'])}\n",
    "        return sum([card_values[h] * 13**i for i, h in enumerate(reversed(self.hand))])\n",
    "    \n",
    "class JokerHand(Hand):\n",
    "    def hand_type_valuer(self):\n",
    "        counts = Counter(self.hand)\n",
    "        if 'J' in counts and len(counts)>1 :\n",
    "            _x = counts.pop('J')\n",
    "            counts[counts.most_common()[0][0]] += _x\n",
    "        \n",
    "        n_distinct = len(counts)\n",
    "        largest_count = counts.most_common()[0][1]\n",
    "        \n",
    "        map = {\n",
    "            (1,5): 7,\n",
    "            (2,4): 6,\n",
    "            (2,3): 5,\n",
    "            (3,3): 4,\n",
    "            (3,2): 3,\n",
    "            (4,2): 2,\n",
    "            (5,1): 1\n",
    "        }\n",
    "\n",
    "        return map[(n_distinct, largest_count)]\n",
    "    \n",
    "    def order_valuer(self):\n",
    "        card_values = {str(c): v for v, c in  enumerate(['J'] + list(range(2,10)) + ['T', 'Q', 'K', 'A'])}\n",
    "        return sum([card_values[h] * 13**i for i, h in enumerate(reversed(self.hand))])\n",
    "    \n",
    "\n",
    "def solver(input, part):\n",
    "    hand_cls = Hand if part == 1 else JokerHand\n",
    "\n",
    "    lines = [i.split(\" \") for i in input.splitlines()]\n",
    "    hands = [hand_cls(l[0]) for l in lines]\n",
    "    bids = [int(l[1]) for l in lines]\n",
    "    order = np.argsort([h.hand_strength for h in hands]).argsort()\n",
    "\n",
    "    return sum(((o+1)*b for o, b in zip(order, bids)))"
   ]
  },
  {
   "cell_type": "code",
   "execution_count": 2,
   "metadata": {},
   "outputs": [],
   "source": [
    "with open(\"inputs/day7.txt\", \"r\") as fn:\n",
    "    input = fn.read()"
   ]
  },
  {
   "cell_type": "code",
   "execution_count": 3,
   "metadata": {},
   "outputs": [
    {
     "data": {
      "text/plain": [
       "248559379"
      ]
     },
     "execution_count": 3,
     "metadata": {},
     "output_type": "execute_result"
    }
   ],
   "source": [
    "solver(input, part=1)"
   ]
  },
  {
   "cell_type": "code",
   "execution_count": 4,
   "metadata": {},
   "outputs": [
    {
     "data": {
      "text/plain": [
       "249631254"
      ]
     },
     "execution_count": 4,
     "metadata": {},
     "output_type": "execute_result"
    }
   ],
   "source": [
    "solver(input, part=2)"
   ]
  }
 ],
 "metadata": {
  "kernelspec": {
   "display_name": "Python 3",
   "language": "python",
   "name": "python3"
  },
  "language_info": {
   "codemirror_mode": {
    "name": "ipython",
    "version": 3
   },
   "file_extension": ".py",
   "mimetype": "text/x-python",
   "name": "python",
   "nbconvert_exporter": "python",
   "pygments_lexer": "ipython3",
   "version": "3.10.13"
  }
 },
 "nbformat": 4,
 "nbformat_minor": 2
}
