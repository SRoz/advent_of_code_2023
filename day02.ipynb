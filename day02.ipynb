{
 "cells": [
  {
   "cell_type": "markdown",
   "metadata": {},
   "source": [
    "# Part 1"
   ]
  },
  {
   "cell_type": "code",
   "execution_count": 1,
   "metadata": {},
   "outputs": [],
   "source": [
    "part1_example = \"\"\"Game 1: 3 blue, 4 red; 1 red, 2 green, 6 blue; 2 green\n",
    "Game 2: 1 blue, 2 green; 3 green, 4 blue, 1 red; 1 green, 1 blue\n",
    "Game 3: 8 green, 6 blue, 20 red; 5 blue, 4 red, 13 green; 5 green, 1 red\n",
    "Game 4: 1 green, 3 red, 6 blue; 3 green, 6 red; 3 green, 15 blue, 14 red\n",
    "Game 5: 6 red, 1 blue, 3 green; 2 blue, 1 red, 2 green\"\"\""
   ]
  },
  {
   "cell_type": "code",
   "execution_count": 44,
   "metadata": {},
   "outputs": [],
   "source": [
    "def parse_games(input: list[str]) -> dict:\n",
    "    games = {}\n",
    "    for line in input:\n",
    "        game_id, game_data = line.split(': ')\n",
    "        game_id = int(game_id.replace('Game ', ''))\n",
    "        rounds = game_data.split('; ')\n",
    "        games[game_id] = []\n",
    "        for round in rounds:\n",
    "            cubes = round.split(', ')\n",
    "            round_data = {}\n",
    "            for cube in cubes:\n",
    "                count, color = cube.split(' ')\n",
    "                round_data[color] = int(count)\n",
    "            games[game_id].append(round_data)\n",
    "    return games"
   ]
  },
  {
   "cell_type": "code",
   "execution_count": 35,
   "metadata": {},
   "outputs": [],
   "source": [
    "def get_possible_games(games: dict, conf: dict) -> list[int]:\n",
    "    possible_games = []\n",
    "    for idx, game in games.items():\n",
    "        game_possible = True\n",
    "        for round in game:\n",
    "            for col, n in conf.items():\n",
    "                if round.get(col, 0) > n:\n",
    "                    game_possible = False\n",
    "        if game_possible:\n",
    "            possible_games.append(idx)    \n",
    "    \n",
    "    return possible_games"
   ]
  },
  {
   "cell_type": "code",
   "execution_count": 47,
   "metadata": {},
   "outputs": [],
   "source": [
    "def part1(input: str, conf: dict) -> int:\n",
    "    lines = input.splitlines()\n",
    "    games = parse_games(lines)\n",
    "    possible_games = get_possible_games(games, conf)\n",
    "    print(sum(possible_games))\n",
    "    "
   ]
  },
  {
   "cell_type": "code",
   "execution_count": 49,
   "metadata": {},
   "outputs": [
    {
     "name": "stdout",
     "output_type": "stream",
     "text": [
      "8\n"
     ]
    }
   ],
   "source": [
    "conf = {\n",
    "    'red': 12,\n",
    "    'green': 13,\n",
    "    'blue': 14\n",
    "}\n",
    "part1(part1_example, conf)"
   ]
  },
  {
   "cell_type": "code",
   "execution_count": 51,
   "metadata": {},
   "outputs": [
    {
     "name": "stdout",
     "output_type": "stream",
     "text": [
      "1931\n"
     ]
    }
   ],
   "source": [
    "with open('inputs/day2.txt', 'r') as file:\n",
    "    part1_input = file.read()\n",
    "\n",
    "part1(part1_input, conf)"
   ]
  },
  {
   "cell_type": "markdown",
   "metadata": {},
   "source": [
    "# Part 2"
   ]
  },
  {
   "cell_type": "code",
   "execution_count": 58,
   "metadata": {},
   "outputs": [],
   "source": [
    "cols = ('red', 'green', 'blue')\n",
    "\n",
    "def get_powers(games: dict) -> list[int]:\n",
    "    powers = []\n",
    "    for idx, game in games.items():\n",
    "        power = 1\n",
    "        for col in cols:\n",
    "            power *= max([round.get(col, 0) for round in game])\n",
    "        \n",
    "        powers.append(power)   \n",
    "    \n",
    "    return powers"
   ]
  },
  {
   "cell_type": "code",
   "execution_count": 65,
   "metadata": {},
   "outputs": [],
   "source": [
    "def part2(input: str) -> int:\n",
    "    lines = input.splitlines()\n",
    "    games = parse_games(lines)\n",
    "    powers = get_powers(games)\n",
    "    print(sum(powers))\n",
    "    "
   ]
  },
  {
   "cell_type": "code",
   "execution_count": 67,
   "metadata": {},
   "outputs": [
    {
     "name": "stdout",
     "output_type": "stream",
     "text": [
      "2286\n",
      "83105\n"
     ]
    }
   ],
   "source": [
    "part2(part1_example)\n",
    "part2(part1_input)"
   ]
  }
 ],
 "metadata": {
  "kernelspec": {
   "display_name": "gpt",
   "language": "python",
   "name": "python3"
  },
  "language_info": {
   "codemirror_mode": {
    "name": "ipython",
    "version": 3
   },
   "file_extension": ".py",
   "mimetype": "text/x-python",
   "name": "python",
   "nbconvert_exporter": "python",
   "pygments_lexer": "ipython3",
   "version": "3.11.5"
  }
 },
 "nbformat": 4,
 "nbformat_minor": 2
}
