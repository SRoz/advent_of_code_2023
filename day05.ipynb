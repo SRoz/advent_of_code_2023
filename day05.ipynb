{
 "cells": [
  {
   "cell_type": "markdown",
   "metadata": {},
   "source": [
    "# Part 1"
   ]
  },
  {
   "cell_type": "code",
   "execution_count": 1,
   "metadata": {},
   "outputs": [],
   "source": [
    "def split_list(input_list):\n",
    "    sub_list = []\n",
    "    final_list = []\n",
    "    for item in input_list:\n",
    "        if item == '':\n",
    "            final_list.append(sub_list)\n",
    "            sub_list = []\n",
    "        else:\n",
    "            sub_list.append(item)\n",
    "    if sub_list:\n",
    "        final_list.append(sub_list)\n",
    "    return final_list\n"
   ]
  },
  {
   "cell_type": "code",
   "execution_count": 2,
   "metadata": {},
   "outputs": [],
   "source": [
    "class Map:\n",
    "    def __init__(self, map: list[str]):\n",
    "        self.destination_range_start, self.source_range_start, self.range_length = [int(i) for i in map.split(\" \")]\n",
    "        self.diff = self.destination_range_start - self.source_range_start\n",
    "        self.dest_range = (self.destination_range_start, self.destination_range_start + self.range_length) \n",
    "        self.source_range = (self.source_range_start, self.source_range_start + self.range_length) \n",
    "\n",
    "\n",
    "class Mapper:\n",
    "    def __init__(self, line: str):\n",
    "        self.map_name = line[0]\n",
    "        self.map_from, self.map_to = self.map_name.split(\" \")[0].split(\"-to-\")\n",
    "        self.ranges = line[1:]\n",
    "        self.maps = list()\n",
    "\n",
    "        for map in self.ranges:\n",
    "            self.maps.append(Map(map))\n",
    "        self.maps = sorted(self.maps, key=lambda x: x.source_range_start)\n",
    "\n",
    "    def map(self, i):\n",
    "        for map in self.maps:\n",
    "            if map.source_range_start <= i < map.source_range_start + map.range_length:\n",
    "                return i + map.diff\n",
    "        else:\n",
    "            return i"
   ]
  },
  {
   "cell_type": "code",
   "execution_count": 3,
   "metadata": {},
   "outputs": [],
   "source": [
    "with open(\"inputs/day5.txt\") as fn:\n",
    "    lines = fn.read().splitlines()\n",
    "    instructions = split_list(lines)"
   ]
  },
  {
   "cell_type": "code",
   "execution_count": 4,
   "metadata": {},
   "outputs": [],
   "source": [
    "def part1(instructions):\n",
    "    seeds = instructions[0]\n",
    "    seeds = [int(i) for i in seeds[0].split(\": \")[1].split(\" \")]\n",
    "    maps = [Mapper(m) for m in instructions[1:]]\n",
    "\n",
    "    locations = list()\n",
    "    for seed in seeds:\n",
    "        num = seed\n",
    "        for map in maps:\n",
    "            num = map.map(num)\n",
    "        locations.append(num)\n",
    "    return min(locations)"
   ]
  },
  {
   "cell_type": "code",
   "execution_count": 5,
   "metadata": {},
   "outputs": [
    {
     "data": {
      "text/plain": [
       "84470622"
      ]
     },
     "execution_count": 5,
     "metadata": {},
     "output_type": "execute_result"
    }
   ],
   "source": [
    "part1(instructions)"
   ]
  },
  {
   "cell_type": "markdown",
   "metadata": {},
   "source": [
    "# Part 2\n",
    "\n",
    "Plus extended the class in part 1 to work on ranges"
   ]
  },
  {
   "cell_type": "code",
   "execution_count": 6,
   "metadata": {},
   "outputs": [],
   "source": [
    "class MapperPart2(Mapper):        \n",
    "    def map_range(self, range):\n",
    "        ranges_out = []\n",
    "        \n",
    "        for map in self.maps:\n",
    "            if range[1] < map.source_range[0]: # entirely below\n",
    "                continue\n",
    "\n",
    "            if range[0] > map.source_range[1]: # entirely above\n",
    "                continue\n",
    "\n",
    "            if range[0] < map.source_range[0]: # start missed\n",
    "                ranges_out.append((range[0], map.source_range[0]))\n",
    "                range = (map.source_range[0], range[1])\n",
    "\n",
    "            if range[1] <= map.source_range[1]: # wholey contained\n",
    "                ranges_out.append((range[0] + map.diff, range[1] + map.diff))\n",
    "                break\n",
    "            else:\n",
    "                ranges_out.append((range[0] + map.diff, map.dest_range[1]))\n",
    "                range = (map.source_range[1], range[1])\n",
    "        else:\n",
    "            ranges_out.append((range[0], range[1]))\n",
    "\n",
    "        return ranges_out"
   ]
  },
  {
   "cell_type": "code",
   "execution_count": 7,
   "metadata": {},
   "outputs": [
    {
     "name": "stdout",
     "output_type": "stream",
     "text": [
      "26714516\n"
     ]
    }
   ],
   "source": [
    "def part2(instructions):\n",
    "    seeds = instructions[0]\n",
    "    seeds = [int(i) for i in seeds[0].split(\": \")[1].split(\" \")]\n",
    "    ranges = [(seeds[i*2],seeds[i*2] + seeds[(i*2)+1]) for i in range(int(len(seeds)/2))]\n",
    "\n",
    "    for instr in instructions[1:]:\n",
    "        ranges = sum([MapperPart2(instr).map_range(range) for range in ranges], [])\n",
    "\n",
    "    print(min((r[0] for r in ranges)))\n",
    "\n",
    "part2(instructions)"
   ]
  }
 ],
 "metadata": {
  "kernelspec": {
   "display_name": "gpt",
   "language": "python",
   "name": "python3"
  },
  "language_info": {
   "codemirror_mode": {
    "name": "ipython",
    "version": 3
   },
   "file_extension": ".py",
   "mimetype": "text/x-python",
   "name": "python",
   "nbconvert_exporter": "python",
   "pygments_lexer": "ipython3",
   "version": "3.11.5"
  }
 },
 "nbformat": 4,
 "nbformat_minor": 2
}
